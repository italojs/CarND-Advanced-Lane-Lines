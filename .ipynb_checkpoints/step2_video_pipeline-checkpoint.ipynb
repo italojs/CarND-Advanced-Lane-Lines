{
 "cells": [
  {
   "cell_type": "code",
   "execution_count": 4,
   "metadata": {},
   "outputs": [],
   "source": [
    "import os\n",
    "import numpy as np\n",
    "import cv2\n",
    "import matplotlib.pyplot as plt\n",
    "import matplotlib.image as mpimg\n",
    "import pickle\n",
    "import glob\n",
    "import scipy\n",
    "from scipy import signal\n",
    "from collections import deque\n",
    "import imageio\n",
    "imageio.plugins.ffmpeg.download()\n",
    "# Import everything needed to edit/save/watch video clips\n",
    "from moviepy.editor import VideoFileClip\n",
    "from IPython.display import HTML\n",
    "\n",
    "# load pickled distortion matrix\n",
    "with open('camera_dist_pickle.p', mode='rb') as f:\n",
    "    dist_pickle = pickle.load(f)\n",
    "    mtx = dist_pickle[\"mtx\"]\n",
    "    dist = dist_pickle[\"dist\"]    \n",
    "\n",
    "def region_of_interest(img):\n",
    "    \"\"\"\n",
    "    Applies an image mask.\n",
    "    \n",
    "    Only keeps the region of the image defined by the polygon\n",
    "    formed from `vertices`. The rest of the image is set to black.\n",
    "    \"\"\"    \n",
    "    shape = img.shape\n",
    "    vertices = np.array([[(0,0),(shape[1],0),(shape[1],0),(6*shape[1]/7,shape[0]),\n",
    "                      (shape[1]/7,shape[0]), (0,0)]],dtype=np.int32)\n",
    "\n",
    "    mask = np.zeros_like(img)   \n",
    "    \n",
    "    #defining a 3 channel or 1 channel color to fill the mask with depending on the input image\n",
    "    if len(img.shape) > 2:\n",
    "        channel_count = img.shape[2]  # i.e. 3 or 4 depending on your image\n",
    "        ignore_mask_color = (255,) * channel_count\n",
    "    else:\n",
    "        ignore_mask_color = 255\n",
    "        \n",
    "    #filling pixels inside the polygon defined by \"vertices\" with the fill color    \n",
    "    cv2.fillPoly(mask, vertices, ignore_mask_color)\n",
    "    \n",
    "    #returning the image only where mask pixels are nonzero\n",
    "    masked_image = cv2.bitwise_and(img, mask)\n",
    "    return masked_image\n",
    "\n",
    "def undistort(img):\n",
    "    result = cv2.undistort(img, mtx, dist, None, mtx)\n",
    "    return result\n",
    "\n",
    "def binarize(img, s_thresh=(120, 255), sx_thresh=(20, 255),l_thresh=(40,255)):\n",
    "    img = np.copy(img)\n",
    "    \n",
    "    # Convert to HLS color space and separate the V channel\n",
    "    hls = cv2.cvtColor(img, cv2.COLOR_RGB2HLS).astype(np.float)\n",
    "    #h_channel = hls[:,:,0]\n",
    "    l_channel = hls[:,:,1]\n",
    "    s_channel = hls[:,:,2]\n",
    "    # Sobel x\n",
    "    # sobelx = abs_sobel_thresh(img, orient='x', sobel_kernel=3, thresh=(0, 255))\n",
    "    # l_channel_col=np.dstack((l_channel,l_channel, l_channel))\n",
    "    sobelx = cv2.Sobel(l_channel, cv2.CV_64F, 1, 0) # Take the derivative in x\n",
    "    abs_sobelx = np.absolute(sobelx) # Absolute x derivative to accentuate lines away from horizontal\n",
    "    scaled_sobel = np.uint8(255*abs_sobelx/np.max(abs_sobelx))\n",
    "    \n",
    "    # Threshold x gradient\n",
    "    sxbinary = np.zeros_like(scaled_sobel)\n",
    "    sxbinary[(scaled_sobel >= sx_thresh[0]) & (scaled_sobel <= sx_thresh[1])] = 1\n",
    "    \n",
    "    # Threshold saturation channel\n",
    "    s_binary = np.zeros_like(s_channel)\n",
    "    s_binary[(s_channel >= s_thresh[0]) & (s_channel <= s_thresh[1])] = 1\n",
    "\n",
    "    # Threshold lightness\n",
    "    l_binary = np.zeros_like(l_channel)\n",
    "    l_binary[(l_channel >= l_thresh[0]) & (l_channel <= l_thresh[1])] = 1\n",
    "    \n",
    "    channels = 255*np.dstack(( l_binary, sxbinary, s_binary)).astype('uint8')        \n",
    "    binary = np.zeros_like(sxbinary)\n",
    "    binary[((l_binary == 1) & (s_binary == 1) | (sxbinary==1))] = 1\n",
    "    binary = 255*np.dstack((binary,binary,binary)).astype('uint8')            \n",
    "    return  binary,channels\n",
    "\n",
    "def warp(img,tobird=True):\n",
    "    corners = np.float32([[190,720],[589,457],[698,457],[1145,720]])\n",
    "    new_top_left=np.array([corners[0,0],0])\n",
    "    new_top_right=np.array([corners[3,0],0])\n",
    "    offset=[150,0]\n",
    "    \n",
    "    img_size = (img.shape[1], img.shape[0])\n",
    "    src = np.float32([corners[0],corners[1],corners[2],corners[3]])\n",
    "    dst = np.float32([corners[0]+offset,new_top_left+offset,new_top_right-offset ,corners[3]-offset])    \n",
    "    if tobird:\n",
    "        M = cv2.getPerspectiveTransform(src, dst)\n",
    "    else:\n",
    "        M = cv2.getPerspectiveTransform(dst,src)\n",
    "    warped = cv2.warpPerspective(img, M, img_size , flags=cv2.INTER_LINEAR)    \n",
    "    return warped, M\n",
    "\n",
    "\n",
    "def find_peaks(img,thresh):\n",
    "    img_half=img[img.shape[0]/2:,:,0]\n",
    "    data = np.sum(img_half, axis=0)\n",
    "    filtered = scipy.ndimage.filters.gaussian_filter1d(data,20)\n",
    "    xs = np.arange(len(filtered))\n",
    "    peak_ind = signal.find_peaks_cwt(filtered, np.arange(20,300))\n",
    "    peaks = np.array(peak_ind)\n",
    "    peaks = peaks[filtered[peak_ind]>thresh]\n",
    "    return peaks,filtered\n",
    "\n",
    "\n",
    "def get_next_window(img,center_point,width):\n",
    "    \"\"\"\n",
    "    input: img,center_point,width\n",
    "        img: binary 3 channel image\n",
    "        center_point: center of window\n",
    "        width: width of window\n",
    "    \n",
    "    output: masked,center_point\n",
    "        masked : a masked image of the same size. mask is a window centered at center_point\n",
    "        center : the mean ofall pixels found within the window\n",
    "    \"\"\"\n",
    "    \n",
    "    ny,nx,_ = img.shape\n",
    "    mask  = np.zeros_like(img)\n",
    "    if (center_point <= width/2): center_point = width/2\n",
    "    if (center_point >= nx-width/2): center_point = nx-width/2\n",
    "    \n",
    "    left  = center_point - width/2\n",
    "    right = center_point + width/2\n",
    "    \n",
    "    vertices = np.array([[(left,0),(left,ny), (right,ny),(right,0)]], dtype=np.int32)\n",
    "    ignore_mask_color=(255,255,255)\n",
    "    cv2.fillPoly(mask, vertices, ignore_mask_color)\n",
    "    masked = cv2.bitwise_and(mask,img)\n",
    "\n",
    "    hist = np.sum(masked[:,:,0],axis=0)\n",
    "    if max(hist>10000):\n",
    "        center = np.argmax(hist)\n",
    "    else:\n",
    "        center = center_point\n",
    "        \n",
    "    return masked,center\n",
    "\n",
    "def lane_from_window(binary,center_point,width):\n",
    "    n_zones=6\n",
    "    ny,nx,nc = binary.shape\n",
    "    zones = binary.reshape(n_zones,-1,nx,nc)\n",
    "    zones = zones[::-1] # start from the bottom slice\n",
    "    window,center = get_next_window(zones[0],center_point,width)\n",
    "    \n",
    "    for zone in zones[1:]:\n",
    "        next_window,center = get_next_window(zone,center,width)\n",
    "        window = np.vstack((next_window,window))\n",
    "    \n",
    "    return window\n",
    "\n",
    "\n",
    "# Define a class to receive the characteristics of each line detection\n",
    "class Line:\n",
    "    def __init__(self,n=5):\n",
    "        # length of queue to store data\n",
    "        self.n = n\n",
    "        #number of fits in buffer\n",
    "        self.n_buffered = 0\n",
    "        # was the line detected in the last iteration?\n",
    "        self.detected = False  \n",
    "        # x values of the last n fits of the line\n",
    "        self.recent_xfitted = deque([],maxlen=n)\n",
    "        #average x values of the fitted line over the last n iterations\n",
    "        self.avgx = None\n",
    "        # fit coeffs of the last n fits\n",
    "        self.recent_fit_coeffs = deque([],maxlen=n)        \n",
    "        #polynomial coefficients averaged over the last n iterations\n",
    "        self.avg_fit_coeffs = None  \n",
    "        # xvals of the most recent fit\n",
    "        self.current_fit_xvals = [np.array([False])]  \n",
    "        #polynomial coefficients for the most recent fit\n",
    "        self.current_fit_coeffs = [np.array([False])]          \n",
    "        #x values for detected line pixels\n",
    "        self.allx = None  \n",
    "        #y values for detected line pixels\n",
    "        self.ally = None\n",
    "        #y values for line fit\n",
    "        self.fit_yvals = np.linspace(0, 100, num=101)*7.2  # always the same y-range as image\n",
    "        #radius of curvature of the line in some units\n",
    "        self.radius_of_curvature = None \n",
    "        # origin (pixels) of fitted line at the bottom of the image\n",
    "        self.line_pos = None \n",
    "        #distance in meters of vehicle center from the line\n",
    "        self.line_base_pos = None \n",
    "        #difference in fit coefficients between last and new fits\n",
    "        self.diffs = np.array([0,0,0], dtype='float') \n",
    "\n",
    "    def set_current_fit_xvals(self):\n",
    "        yvals = self.fit_yvals\n",
    "        self.current_fit_xvals = self.current_fit_coeffs[0]*yvals**2 + self.current_fit_coeffs[1]*yvals + self.current_fit_coeffs[2]\n",
    "        \n",
    "    def add_data(self):\n",
    "        self.recent_xfitted.appendleft(self.current_fit_xvals)\n",
    "        self.recent_fit_coeffs.appendleft(self.current_fit_coeffs)\n",
    "        assert len(self.recent_xfitted)==len(self.recent_fit_coeffs)\n",
    "        self.n_buffered = len(self.recent_xfitted)\n",
    "        \n",
    "    def pop_data(self):        \n",
    "        if self.n_buffered>0:\n",
    "            self.recent_xfitted.pop()\n",
    "            self.recent_fit_coeffs.pop()\n",
    "            assert len(self.recent_xfitted)==len(self.recent_fit_coeffs)\n",
    "            self.n_buffered = len(self.recent_xfitted)\n",
    "        \n",
    "        return self.n_buffered\n",
    "        \n",
    "    def set_avgx(self):\n",
    "        fits = self.recent_xfitted\n",
    "        if len(fits)>0:\n",
    "            avg=0\n",
    "            for fit in fits:\n",
    "                avg +=np.array(fit)\n",
    "            avg = avg / len(fits)\n",
    "            self.avgx = avg\n",
    "            \n",
    "    def set_avgcoeffs(self):\n",
    "        coeffs = self.recent_fit_coeffs\n",
    "        if len(coeffs)>0:\n",
    "            avg=0\n",
    "            for coeff in coeffs:\n",
    "                avg +=np.array(coeff)\n",
    "            avg = avg / len(coeffs)\n",
    "            self.avg_fit_coeffs = avg\n",
    "    \n",
    "    def set_allxy(self,lane_candidate):\n",
    "        self.ally,self.allx = (lane_candidate[:,:,0]>254).nonzero()\n",
    "\n",
    "    def set_current_fit_coeffs(self):\n",
    "        self.current_fit_coeffs = np.polyfit(self.ally, self.allx, 2)\n",
    "    \n",
    "    def get_diffs(self):\n",
    "        if self.n_buffered>0:\n",
    "            self.diffs = self.current_fit_coeffs - self.avg_fit_coeffs\n",
    "        else:\n",
    "            self.diffs = np.array([0,0,0], dtype='float')                 \n",
    "            \n",
    "    def set_radius_of_curvature(self):\n",
    "        # Define y-value where we want radius of curvature (choose bottom of the image)\n",
    "        y_eval = max(self.fit_yvals)\n",
    "        if self.avg_fit_coeffs is not None:\n",
    "            self.radius_of_curvature = ((1 + (2*self.avg_fit_coeffs[0]*y_eval + self.avg_fit_coeffs[1])**2)**1.5) \\\n",
    "                             /np.absolute(2*self.avg_fit_coeffs[0])\n",
    "                        \n",
    "            \n",
    "    def set_line_base_pos(self):\n",
    "        y_eval = max(self.fit_yvals)\n",
    "        self.line_pos = self.current_fit_coeffs[0]*y_eval**2 \\\n",
    "                        +self.current_fit_coeffs[1]*y_eval \\\n",
    "                        + self.current_fit_coeffs[2]\n",
    "        basepos = 640\n",
    "        \n",
    "        self.line_base_pos = (self.line_pos - basepos)*3.7/600.0 # 3.7 meters is about 600 pixels in the x direction\n",
    "\n",
    "    # here come sanity checks of the computed metrics\n",
    "    def accept_lane(self):\n",
    "        flag = True\n",
    "        maxdist = 2.8  # distance in meters from the lane\n",
    "        if(abs(self.line_base_pos) > maxdist ):\n",
    "            print('lane too far away')\n",
    "            flag  = False        \n",
    "        if(self.n_buffered > 0):\n",
    "            relative_delta = self.diffs / self.avg_fit_coeffs\n",
    "            # allow maximally this percentage of variation in the fit coefficients from frame to frame\n",
    "            if not (abs(relative_delta)<np.array([0.7,0.5,0.15])).all():\n",
    "                print('fit coeffs too far off [%]',relative_delta)\n",
    "                flag=False\n",
    "                \n",
    "        return flag\n",
    "    \n",
    "    def update(self,lane):\n",
    "        self.set_allxy(lane)\n",
    "        self.set_current_fit_coeffs()\n",
    "        self.set_current_fit_xvals()\n",
    "        self.set_radius_of_curvature()\n",
    "        self.set_line_base_pos()\n",
    "        self.get_diffs()\n",
    "        if self.accept_lane():\n",
    "            self.detected=True\n",
    "            self.add_data()\n",
    "            self.set_avgx()\n",
    "            self.set_avgcoeffs()            \n",
    "        else:\n",
    "            self.detected=False            \n",
    "            self.pop_data()\n",
    "            if self.n_buffered>0:\n",
    "                self.set_avgx()\n",
    "                self.set_avgcoeffs()\n",
    "                    \n",
    "        return self.detected,self.n_buffered\n",
    "    \n",
    "def get_binary_lane_image(img,line,window_center,width=300):\n",
    "    if line.detected:\n",
    "        window_center=line.line_pos\n",
    "    else:\n",
    "        peaks,filtered = find_peaks(img,thresh=3000)\n",
    "        if len(peaks)!=2:\n",
    "            print('Trouble ahead! '+ str(len(peaks)) +' lanes detected!')\n",
    "            plt.imsave('troublesome_image.jpg',img)                        \n",
    "            \n",
    "        peak_ind = np.argmin(abs(peaks-window_center))\n",
    "        peak  = peaks[peak_ind]\n",
    "        window_center = peak\n",
    "    \n",
    "    lane_binary = lane_from_window(img,window_center,width)\n",
    "    return lane_binary \n",
    "\n",
    "\n",
    "def project_lane_lines(img,left_fitx,right_fitx,yvals):\n",
    "    \n",
    "    # Create an image to draw the lines on\n",
    "    color_warp = np.zeros_like(img).astype(np.uint8)\n",
    "\n",
    "    # Recast the x and y points into usable format for cv2.fillPoly()\n",
    "    pts_left = np.array([np.transpose(np.vstack([left_fitx, yvals]))])\n",
    "    pts_right = np.array([np.flipud(np.transpose(np.vstack([right_fitx, yvals])))])\n",
    "    pts = np.hstack((pts_left, pts_right))\n",
    "\n",
    "    # Draw the lane onto the warped blank image\n",
    "    cv2.fillPoly(color_warp, np.int_([pts]), (0,255, 0))\n",
    "    undist = undistort(img)    \n",
    "    unwarp,Minv = warp(img,tobird=False)\n",
    "\n",
    "    # Warp the blank back to original image space using inverse perspective matrix (Minv)\n",
    "    newwarp = cv2.warpPerspective(color_warp, Minv, (img.shape[1], img.shape[0])) \n",
    "    # Combine the result with the original image\n",
    "    result = cv2.addWeighted(undist, 1, newwarp, 0.3, 0)\n",
    "    return result\n",
    "\n",
    "def process_image(img):\n",
    "    global left\n",
    "    global right\n",
    "    undist = undistort(img)\n",
    "    binary,_  = binarize(undist)\n",
    "    warped,_  = warp(binary)\n",
    "    warped_binary = region_of_interest(warped)\n",
    "    \n",
    "    window_center_l = 340\n",
    "    if left.detected:\n",
    "        window_center_l = left.line_pos        \n",
    "    left_binary = get_binary_lane_image(warped_binary,left,window_center_l,width=300)\n",
    "    \n",
    "    window_center_r = 940\n",
    "    if right.detected:\n",
    "        window_center_r = right.line_pos        \n",
    "    right_binary = get_binary_lane_image(warped_binary,right,window_center_r,width=300)\n",
    "    \n",
    "    detected_l,n_buffered_left = left.update(left_binary)\n",
    "    detected_r,n_buffered_right = right.update(right_binary)    \n",
    "    \n",
    "    left_fitx = left.avgx\n",
    "    right_fitx = right.avgx\n",
    "    yvals = left.fit_yvals\n",
    "    lane_width = 3.7\n",
    "    off_center = -100*round(0.5*(right.line_base_pos-lane_width/2) +  0.5*(abs(left.line_base_pos)-lane_width/2),2)\n",
    "    \n",
    "    result = project_lane_lines(img,left_fitx,right_fitx,yvals)\n",
    "    \n",
    "    font = cv2.FONT_HERSHEY_SIMPLEX\n",
    "    str1 = str('distance from center: '+str(off_center)+'cm')\n",
    "    cv2.putText(result,str1,(430,630), font, 1,(0,0,255),2,cv2.LINE_AA)\n",
    "    if left.radius_of_curvature and right.radius_of_curvature:\n",
    "        curvature = 0.5*(round(right.radius_of_curvature/1000,1) + round(left.radius_of_curvature/1000,1))\n",
    "        str2 = str('radius of curvature: '+str(curvature)+'km')\n",
    "        cv2.putText(result,str2,(430,670), font, 1,(0,0,255),2,cv2.LINE_AA)    \n",
    "    \n",
    "    return result"
   ]
  },
  {
   "cell_type": "code",
   "execution_count": 5,
   "metadata": {},
   "outputs": [
    {
     "data": {
      "image/png": "[encoded data removed]",
      "text/plain": [
       "<matplotlib.figure.Figure at 0x7ff45bfaf8d0>"
      ]
     },
     "metadata": {},
     "output_type": "display_data"
    }
   ],
   "source": [
    "left = Line(7)\n",
    "right = Line(7)\n",
    "img = plt.imread('test_images/test6.jpg')\n",
    "result = process_image(img)\n",
    "result = process_image(img)\n",
    "\n",
    "plt.figure()\n",
    "plt.imshow(result)\n",
    "plt.show()"
   ]
  },
  {
   "cell_type": "code",
   "execution_count": 6,
   "metadata": {},
   "outputs": [
    {
     "name": "stdout",
     "output_type": "stream",
     "text": [
      "[MoviePy] >>>> Building video output_images/stage3_project_video.mp4\n",
      "[MoviePy] Writing video output_images/stage3_project_video.mp4\n"
     ]
    },
    {
     "name": "stderr",
     "output_type": "stream",
     "text": [
      "  1%|          | 14/1261 [00:01<02:42,  7.69it/s]"
     ]
    },
    {
     "name": "stdout",
     "output_type": "stream",
     "text": [
      "fit coeffs too far off [%] [ 1.1555909   0.3657685  -0.01984123]\n",
      "fit coeffs too far off [%] [ 0.9593654   0.36395055 -0.03662408]\n"
     ]
    },
    {
     "name": "stderr",
     "output_type": "stream",
     "text": [
      "  1%|▏         | 16/1261 [00:02<03:24,  6.08it/s]"
     ]
    },
    {
     "name": "stdout",
     "output_type": "stream",
     "text": [
      "fit coeffs too far off [%] [ 0.90042687  0.37676968 -0.04999387]\n",
      "fit coeffs too far off [%] [ 0.73769242  0.34741314 -0.05171969]\n"
     ]
    },
    {
     "name": "stderr",
     "output_type": "stream",
     "text": [
      "  1%|▏         | 18/1261 [00:02<03:41,  5.60it/s]"
     ]
    },
    {
     "name": "stdout",
     "output_type": "stream",
     "text": [
      "fit coeffs too far off [%] [ 0.88783465  0.42820984 -0.06149738]\n",
      "fit coeffs too far off [%] [ 1.14822369  0.46549653 -0.05692699]\n"
     ]
    },
    {
     "name": "stderr",
     "output_type": "stream",
     "text": [
      "  2%|▏         | 20/1261 [00:03<03:50,  5.38it/s]"
     ]
    },
    {
     "name": "stdout",
     "output_type": "stream",
     "text": [
      "fit coeffs too far off [%] [ 1.62162885  0.47836453 -0.04768783]\n"
     ]
    },
    {
     "name": "stderr",
     "output_type": "stream",
     "text": [
      "  6%|▌         | 74/1261 [00:10<02:59,  6.60it/s]"
     ]
    },
    {
     "name": "stdout",
     "output_type": "stream",
     "text": [
      "fit coeffs too far off [%] [ 0.78641221  0.26394027 -0.01138061]\n"
     ]
    },
    {
     "name": "stderr",
     "output_type": "stream",
     "text": [
      "  7%|▋         | 84/1261 [00:12<02:49,  6.96it/s]"
     ]
    },
    {
     "name": "stdout",
     "output_type": "stream",
     "text": [
      "fit coeffs too far off [%] [-0.91365891 -0.46128217  0.04282034]\n"
     ]
    },
    {
     "name": "stderr",
     "output_type": "stream",
     "text": [
      "  9%|▉         | 114/1261 [00:16<03:08,  6.08it/s]"
     ]
    },
    {
     "name": "stdout",
     "output_type": "stream",
     "text": [
      "fit coeffs too far off [%] [ 0.93758086  0.51816532 -0.03006854]\n"
     ]
    },
    {
     "name": "stderr",
     "output_type": "stream",
     "text": [
      " 12%|█▏        | 148/1261 [00:22<02:45,  6.72it/s]"
     ]
    },
    {
     "name": "stdout",
     "output_type": "stream",
     "text": [
      "fit coeffs too far off [%] [ 0.93983001  0.43358786 -0.0423442 ]\n"
     ]
    },
    {
     "name": "stderr",
     "output_type": "stream",
     "text": [
      "\r",
      " 12%|█▏        | 149/1261 [00:22<03:06,  5.97it/s]"
     ]
    },
    {
     "name": "stdout",
     "output_type": "stream",
     "text": [
      "fit coeffs too far off [%] [ 0.99705726  0.46536423 -0.04384693]\n"
     ]
    },
    {
     "name": "stderr",
     "output_type": "stream",
     "text": [
      "\r",
      " 12%|█▏        | 150/1261 [00:22<03:28,  5.33it/s]"
     ]
    },
    {
     "name": "stdout",
     "output_type": "stream",
     "text": [
      "fit coeffs too far off [%] [ 0.73582954  0.32237227 -0.02576321]\n"
     ]
    },
    {
     "name": "stderr",
     "output_type": "stream",
     "text": [
      " 14%|█▎        | 171/1261 [00:25<02:34,  7.04it/s]"
     ]
    },
    {
     "name": "stdout",
     "output_type": "stream",
     "text": [
      "fit coeffs too far off [%] [ 0.77912321  0.19657026  0.00616935]\n",
      "fit coeffs too far off [%] [ 1.13593836  0.33390925 -0.0034329 ]\n"
     ]
    },
    {
     "name": "stderr",
     "output_type": "stream",
     "text": [
      " 14%|█▎        | 173/1261 [00:25<03:17,  5.50it/s]"
     ]
    },
    {
     "name": "stdout",
     "output_type": "stream",
     "text": [
      "fit coeffs too far off [%] [ 1.20424049  0.42416991 -0.02143803]\n"
     ]
    },
    {
     "name": "stderr",
     "output_type": "stream",
     "text": [
      "\r",
      " 14%|█▍        | 174/1261 [00:26<03:23,  5.34it/s]"
     ]
    },
    {
     "name": "stdout",
     "output_type": "stream",
     "text": [
      "fit coeffs too far off [%] [ 1.74332135  0.74716085 -0.0640123 ]\n"
     ]
    },
    {
     "name": "stderr",
     "output_type": "stream",
     "text": [
      "\r",
      " 14%|█▍        | 175/1261 [00:26<03:36,  5.02it/s]"
     ]
    },
    {
     "name": "stdout",
     "output_type": "stream",
     "text": [
      "fit coeffs too far off [%] [ 1.7071501   0.82287938 -0.08239259]\n"
     ]
    },
    {
     "name": "stderr",
     "output_type": "stream",
     "text": [
      "\r",
      " 14%|█▍        | 176/1261 [00:26<03:47,  4.77it/s]"
     ]
    },
    {
     "name": "stdout",
     "output_type": "stream",
     "text": [
      "fit coeffs too far off [%] [ 1.646177    0.86150027 -0.09148067]\n"
     ]
    },
    {
     "name": "stderr",
     "output_type": "stream",
     "text": [
      "\r",
      " 14%|█▍        | 177/1261 [00:26<03:47,  4.77it/s]"
     ]
    },
    {
     "name": "stdout",
     "output_type": "stream",
     "text": [
      "fit coeffs too far off [%] [ 1.23048207  0.65476585 -0.06644639]\n"
     ]
    },
    {
     "name": "stderr",
     "output_type": "stream",
     "text": [
      " 24%|██▍       | 305/1261 [00:45<02:17,  6.95it/s]"
     ]
    },
    {
     "name": "stdout",
     "output_type": "stream",
     "text": [
      "fit coeffs too far off [%] [-1.6349008  -0.71356205  0.03065478]\n"
     ]
    },
    {
     "name": "stderr",
     "output_type": "stream",
     "text": [
      "\r",
      " 24%|██▍       | 306/1261 [00:45<02:42,  5.89it/s]"
     ]
    },
    {
     "name": "stdout",
     "output_type": "stream",
     "text": [
      "fit coeffs too far off [%] [-1.15015693 -0.43714385  0.00776874]\n"
     ]
    },
    {
     "name": "stderr",
     "output_type": "stream",
     "text": [
      "\r",
      " 24%|██▍       | 307/1261 [00:45<02:58,  5.35it/s]"
     ]
    },
    {
     "name": "stdout",
     "output_type": "stream",
     "text": [
      "fit coeffs too far off [%] [-1.17760009 -0.53593894  0.02179108]\n"
     ]
    },
    {
     "name": "stderr",
     "output_type": "stream",
     "text": [
      " 25%|██▍       | 311/1261 [00:46<02:37,  6.02it/s]"
     ]
    },
    {
     "name": "stdout",
     "output_type": "stream",
     "text": [
      "fit coeffs too far off [%] [-0.80119108 -0.29569872  0.00341297]\n"
     ]
    },
    {
     "name": "stderr",
     "output_type": "stream",
     "text": [
      "\r",
      " 25%|██▍       | 312/1261 [00:46<02:56,  5.39it/s]"
     ]
    },
    {
     "name": "stdout",
     "output_type": "stream",
     "text": [
      "fit coeffs too far off [%] [-0.79879687 -0.32586108  0.00678687]\n"
     ]
    },
    {
     "name": "stderr",
     "output_type": "stream",
     "text": [
      " 25%|██▍       | 314/1261 [00:47<02:50,  5.54it/s]"
     ]
    },
    {
     "name": "stdout",
     "output_type": "stream",
     "text": [
      "fit coeffs too far off [%] [-1.00840863 -0.50315483  0.08859087]\n"
     ]
    },
    {
     "name": "stderr",
     "output_type": "stream",
     "text": [
      "\r",
      " 25%|██▍       | 315/1261 [00:47<03:02,  5.18it/s]"
     ]
    },
    {
     "name": "stdout",
     "output_type": "stream",
     "text": [
      "fit coeffs too far off [%] [-0.89083392 -0.48325707  0.08037097]\n"
     ]
    },
    {
     "name": "stderr",
     "output_type": "stream",
     "text": [
      "\r",
      " 25%|██▌       | 316/1261 [00:47<03:11,  4.92it/s]"
     ]
    },
    {
     "name": "stdout",
     "output_type": "stream",
     "text": [
      "fit coeffs too far off [%] [-1.14245111 -0.48870344  0.06620041]\n"
     ]
    },
    {
     "name": "stderr",
     "output_type": "stream",
     "text": [
      "\r",
      " 25%|██▌       | 317/1261 [00:47<03:24,  4.62it/s]"
     ]
    },
    {
     "name": "stdout",
     "output_type": "stream",
     "text": [
      "fit coeffs too far off [%] [-0.7651578  -0.33942227  0.04632919]\n"
     ]
    },
    {
     "name": "stderr",
     "output_type": "stream",
     "text": [
      "\r",
      " 25%|██▌       | 318/1261 [00:48<03:24,  4.62it/s]"
     ]
    },
    {
     "name": "stdout",
     "output_type": "stream",
     "text": [
      "fit coeffs too far off [%] [-0.72742297 -0.45035411  0.06857759]\n",
      "fit coeffs too far off [%] [  2.40040889e+00   3.68812237e-01   2.89183755e-04]\n"
     ]
    },
    {
     "name": "stderr",
     "output_type": "stream",
     "text": [
      "\r",
      " 25%|██▌       | 319/1261 [00:48<03:54,  4.02it/s]"
     ]
    },
    {
     "name": "stdout",
     "output_type": "stream",
     "text": [
      "fit coeffs too far off [%] [-1.18000056 -0.48885171  0.05762956]\n",
      "fit coeffs too far off [%] [ 3.41635654  0.47796817  0.00649675]\n"
     ]
    },
    {
     "name": "stderr",
     "output_type": "stream",
     "text": [
      "\r",
      " 25%|██▌       | 320/1261 [00:48<04:14,  3.70it/s]"
     ]
    },
    {
     "name": "stdout",
     "output_type": "stream",
     "text": [
      "fit coeffs too far off [%] [-2.13111972 -0.70212202  0.06314721]\n",
      "fit coeffs too far off [%] [  2.71974518e+00   4.97641526e-01  -1.11874801e-03]\n"
     ]
    },
    {
     "name": "stderr",
     "output_type": "stream",
     "text": [
      "\r",
      " 25%|██▌       | 321/1261 [00:48<04:27,  3.51it/s]"
     ]
    },
    {
     "name": "stdout",
     "output_type": "stream",
     "text": [
      "fit coeffs too far off [%] [ 1.6660381   0.26401916  0.00690152]\n"
     ]
    },
    {
     "name": "stderr",
     "output_type": "stream",
     "text": [
      "\r",
      " 26%|██▌       | 322/1261 [00:49<04:11,  3.73it/s]"
     ]
    },
    {
     "name": "stdout",
     "output_type": "stream",
     "text": [
      "fit coeffs too far off [%] [ 0.64020091 -0.71655658  0.0097245 ]\n",
      "fit coeffs too far off [%] [ 1.0322478   0.1970384   0.00498671]\n"
     ]
    },
    {
     "name": "stderr",
     "output_type": "stream",
     "text": [
      "\r",
      " 26%|██▌       | 323/1261 [00:49<04:18,  3.63it/s]"
     ]
    },
    {
     "name": "stdout",
     "output_type": "stream",
     "text": [
      "fit coeffs too far off [%] [ 1.17681563  0.31384856  0.00190653]\n"
     ]
    },
    {
     "name": "stderr",
     "output_type": "stream",
     "text": [
      "\r",
      " 26%|██▌       | 324/1261 [00:49<04:11,  3.72it/s]"
     ]
    },
    {
     "name": "stdout",
     "output_type": "stream",
     "text": [
      "fit coeffs too far off [%] [-0.1879243   0.8499255  -0.02081241]\n"
     ]
    },
    {
     "name": "stderr",
     "output_type": "stream",
     "text": [
      " 26%|██▌       | 327/1261 [00:50<03:33,  4.38it/s]"
     ]
    },
    {
     "name": "stdout",
     "output_type": "stream",
     "text": [
      "fit coeffs too far off [%] [-0.24030464  0.69081114 -0.01126994]\n"
     ]
    },
    {
     "name": "stderr",
     "output_type": "stream",
     "text": [
      "\r",
      " 26%|██▌       | 328/1261 [00:50<03:54,  3.98it/s]"
     ]
    },
    {
     "name": "stdout",
     "output_type": "stream",
     "text": [
      "fit coeffs too far off [%] [-0.31074182  1.28699805 -0.01441706]\n"
     ]
    },
    {
     "name": "stderr",
     "output_type": "stream",
     "text": [
      " 26%|██▌       | 330/1261 [00:51<03:24,  4.55it/s]"
     ]
    },
    {
     "name": "stdout",
     "output_type": "stream",
     "text": [
      "fit coeffs too far off [%] [-0.98568416 -0.59853552  0.01653981]\n"
     ]
    },
    {
     "name": "stderr",
     "output_type": "stream",
     "text": [
      "\r",
      " 26%|██▌       | 331/1261 [00:51<03:43,  4.16it/s]"
     ]
    },
    {
     "name": "stdout",
     "output_type": "stream",
     "text": [
      "fit coeffs too far off [%] [-0.97772903 -0.01726335  0.02132019]\n"
     ]
    },
    {
     "name": "stderr",
     "output_type": "stream",
     "text": [
      "\r",
      " 26%|██▋       | 332/1261 [00:51<03:51,  4.01it/s]"
     ]
    },
    {
     "name": "stdout",
     "output_type": "stream",
     "text": [
      "fit coeffs too far off [%] [-1.52851237 -0.30187671  0.04356221]\n"
     ]
    },
    {
     "name": "stderr",
     "output_type": "stream",
     "text": [
      "\r",
      " 26%|██▋       | 333/1261 [00:51<03:51,  4.00it/s]"
     ]
    },
    {
     "name": "stdout",
     "output_type": "stream",
     "text": [
      "fit coeffs too far off [%] [-0.73449836 -0.19340536 -0.01461507]\n"
     ]
    },
    {
     "name": "stderr",
     "output_type": "stream",
     "text": [
      "\r",
      " 26%|██▋       | 334/1261 [00:52<03:50,  4.02it/s]"
     ]
    },
    {
     "name": "stdout",
     "output_type": "stream",
     "text": [
      "fit coeffs too far off [%] [ -9.64232467e-01   1.23799439e+01  -8.43887169e-03]\n",
      "fit coeffs too far off [%] [-0.83341914 -0.31849207 -0.00966981]\n"
     ]
    },
    {
     "name": "stderr",
     "output_type": "stream",
     "text": [
      "\r",
      " 27%|██▋       | 335/1261 [00:52<04:19,  3.56it/s]"
     ]
    },
    {
     "name": "stdout",
     "output_type": "stream",
     "text": [
      "fit coeffs too far off [%] [-0.83983008 -0.28054015 -0.01191768]\n"
     ]
    },
    {
     "name": "stderr",
     "output_type": "stream",
     "text": [
      "\r",
      " 27%|██▋       | 336/1261 [00:52<04:27,  3.46it/s]"
     ]
    },
    {
     "name": "stdout",
     "output_type": "stream",
     "text": [
      "fit coeffs too far off [%] [-3.66347999  1.32691889 -0.03280748]\n"
     ]
    },
    {
     "name": "stderr",
     "output_type": "stream",
     "text": [
      "\r",
      " 27%|██▋       | 337/1261 [00:53<04:22,  3.53it/s]"
     ]
    },
    {
     "name": "stdout",
     "output_type": "stream",
     "text": [
      "fit coeffs too far off [%] [-1.15628013 -0.81531749  0.01619271]\n"
     ]
    },
    {
     "name": "stderr",
     "output_type": "stream",
     "text": [
      "\r",
      " 27%|██▋       | 338/1261 [00:53<04:19,  3.55it/s]"
     ]
    },
    {
     "name": "stdout",
     "output_type": "stream",
     "text": [
      "fit coeffs too far off [%] [  2.63356298e+00  -1.34656118e-01  -8.08944355e-04]\n",
      "fit coeffs too far off [%] [-0.94292752 -0.73207015  0.01771926]\n"
     ]
    },
    {
     "name": "stderr",
     "output_type": "stream",
     "text": [
      "\r",
      " 27%|██▋       | 339/1261 [00:53<04:45,  3.23it/s]"
     ]
    },
    {
     "name": "stdout",
     "output_type": "stream",
     "text": [
      "fit coeffs too far off [%] [-0.7918624  -0.67846378  0.02287476]\n"
     ]
    },
    {
     "name": "stderr",
     "output_type": "stream",
     "text": [
      "\r",
      " 27%|██▋       | 340/1261 [00:54<04:32,  3.38it/s]"
     ]
    },
    {
     "name": "stdout",
     "output_type": "stream",
     "text": [
      "fit coeffs too far off [%] [ 0.9656328  -1.90758016  0.02887687]\n",
      "fit coeffs too far off [%] [-0.91326687 -0.58180487  0.01439544]\n"
     ]
    },
    {
     "name": "stderr",
     "output_type": "stream",
     "text": [
      "\r",
      " 27%|██▋       | 341/1261 [00:54<04:36,  3.32it/s]"
     ]
    },
    {
     "name": "stdout",
     "output_type": "stream",
     "text": [
      "fit coeffs too far off [%] [-1.76417899 -0.74407282  0.00584009]\n"
     ]
    },
    {
     "name": "stderr",
     "output_type": "stream",
     "text": [
      "\r",
      " 27%|██▋       | 342/1261 [00:54<04:31,  3.38it/s]"
     ]
    },
    {
     "name": "stdout",
     "output_type": "stream",
     "text": [
      "fit coeffs too far off [%] [-0.14635731  0.87294698  0.02705824]\n"
     ]
    },
    {
     "name": "stderr",
     "output_type": "stream",
     "text": [
      " 27%|██▋       | 345/1261 [00:55<03:40,  4.15it/s]"
     ]
    },
    {
     "name": "stdout",
     "output_type": "stream",
     "text": [
      "fit coeffs too far off [%] [-0.06281098 -1.41867035 -0.01738791]\n"
     ]
    },
    {
     "name": "stderr",
     "output_type": "stream",
     "text": [
      "\r",
      " 27%|██▋       | 346/1261 [00:55<03:51,  3.95it/s]"
     ]
    },
    {
     "name": "stdout",
     "output_type": "stream",
     "text": [
      "fit coeffs too far off [%] [-0.2868939  -3.01510503 -0.02592804]\n"
     ]
    },
    {
     "name": "stderr",
     "output_type": "stream",
     "text": [
      " 28%|██▊       | 348/1261 [00:56<03:45,  4.05it/s]"
     ]
    },
    {
     "name": "stdout",
     "output_type": "stream",
     "text": [
      "fit coeffs too far off [%] [-0.39444473  0.61766814 -0.01780296]\n",
      "fit coeffs too far off [%] [-0.65785368 -0.70438332  0.02123664]\n"
     ]
    },
    {
     "name": "stderr",
     "output_type": "stream",
     "text": [
      "\r",
      " 28%|██▊       | 349/1261 [00:56<04:09,  3.65it/s]"
     ]
    },
    {
     "name": "stdout",
     "output_type": "stream",
     "text": [
      "fit coeffs too far off [%] [-1.04404207 -0.84505765  0.01469726]\n"
     ]
    },
    {
     "name": "stderr",
     "output_type": "stream",
     "text": [
      "\r",
      " 28%|██▊       | 350/1261 [00:56<03:56,  3.85it/s]"
     ]
    },
    {
     "name": "stdout",
     "output_type": "stream",
     "text": [
      "fit coeffs too far off [%] [-0.93099268 -0.94363547  0.02091312]\n"
     ]
    },
    {
     "name": "stderr",
     "output_type": "stream",
     "text": [
      "\r",
      " 28%|██▊       | 351/1261 [00:56<03:57,  3.84it/s]"
     ]
    },
    {
     "name": "stdout",
     "output_type": "stream",
     "text": [
      "fit coeffs too far off [%] [ 1.33673207  0.34098054 -0.00768516]\n",
      "fit coeffs too far off [%] [-0.75820966 -0.77640878  0.01527223]\n"
     ]
    },
    {
     "name": "stderr",
     "output_type": "stream",
     "text": [
      "\r",
      " 28%|██▊       | 352/1261 [00:57<04:30,  3.37it/s]"
     ]
    },
    {
     "name": "stdout",
     "output_type": "stream",
     "text": [
      "fit coeffs too far off [%] [ 2.34958887  0.53509318 -0.00859434]\n",
      "fit coeffs too far off [%] [-0.77545179 -0.84448393  0.0138325 ]\n"
     ]
    },
    {
     "name": "stderr",
     "output_type": "stream",
     "text": [
      "\r",
      " 28%|██▊       | 353/1261 [00:57<04:57,  3.05it/s]"
     ]
    },
    {
     "name": "stdout",
     "output_type": "stream",
     "text": [
      "fit coeffs too far off [%] [-1.54371917 -1.59299765  0.02847123]\n"
     ]
    },
    {
     "name": "stderr",
     "output_type": "stream",
     "text": [
      " 28%|██▊       | 355/1261 [00:58<04:05,  3.69it/s]"
     ]
    },
    {
     "name": "stdout",
     "output_type": "stream",
     "text": [
      "fit coeffs too far off [%] [ -7.55891191e+00  -1.60632621e+00   1.63963119e-03]\n"
     ]
    },
    {
     "name": "stderr",
     "output_type": "stream",
     "text": [
      " 28%|██▊       | 357/1261 [00:58<03:37,  4.16it/s]"
     ]
    },
    {
     "name": "stdout",
     "output_type": "stream",
     "text": [
      "fit coeffs too far off [%] [  4.69250129e+00  -1.26430438e+02  -1.93917230e-02]\n"
     ]
    },
    {
     "name": "stderr",
     "output_type": "stream",
     "text": [
      " 28%|██▊       | 359/1261 [00:59<03:32,  4.25it/s]"
     ]
    },
    {
     "name": "stdout",
     "output_type": "stream",
     "text": [
      "fit coeffs too far off [%] [-1.06477351 -0.63637363  0.04152848]\n"
     ]
    },
    {
     "name": "stderr",
     "output_type": "stream",
     "text": [
      "\r",
      " 29%|██▊       | 360/1261 [00:59<03:42,  4.05it/s]"
     ]
    },
    {
     "name": "stdout",
     "output_type": "stream",
     "text": [
      "fit coeffs too far off [%] [-1.17005554 -0.62012573  0.03162431]\n"
     ]
    },
    {
     "name": "stderr",
     "output_type": "stream",
     "text": [
      "\r",
      " 29%|██▊       | 361/1261 [00:59<03:48,  3.93it/s]"
     ]
    },
    {
     "name": "stdout",
     "output_type": "stream",
     "text": [
      "fit coeffs too far off [%] [-1.79813179 -0.94638573  0.04227455]\n",
      "fit coeffs too far off [%] [-0.54550923 -0.52795022  0.00510389]\n"
     ]
    },
    {
     "name": "stderr",
     "output_type": "stream",
     "text": [
      "\r",
      " 29%|██▊       | 362/1261 [00:59<04:05,  3.66it/s]"
     ]
    },
    {
     "name": "stdout",
     "output_type": "stream",
     "text": [
      "fit coeffs too far off [%] [-2.34759993 -1.28141175  0.06154169]\n"
     ]
    },
    {
     "name": "stderr",
     "output_type": "stream",
     "text": [
      "\r",
      " 29%|██▉       | 363/1261 [01:00<03:58,  3.76it/s]"
     ]
    },
    {
     "name": "stdout",
     "output_type": "stream",
     "text": [
      "fit coeffs too far off [%] [-2.80078964 -1.48006026  0.0617677 ]\n"
     ]
    },
    {
     "name": "stderr",
     "output_type": "stream",
     "text": [
      "\r",
      " 29%|██▉       | 364/1261 [01:00<04:06,  3.64it/s]"
     ]
    },
    {
     "name": "stdout",
     "output_type": "stream",
     "text": [
      "fit coeffs too far off [%] [-3.66776439 -2.04988767  0.11427142]\n"
     ]
    },
    {
     "name": "stderr",
     "output_type": "stream",
     "text": [
      " 29%|██▉       | 366/1261 [01:00<03:49,  3.90it/s]"
     ]
    },
    {
     "name": "stdout",
     "output_type": "stream",
     "text": [
      "fit coeffs too far off [%] [ 0.76149958  0.6940273  -0.00823244]\n"
     ]
    },
    {
     "name": "stderr",
     "output_type": "stream",
     "text": [
      "\r",
      " 29%|██▉       | 367/1261 [01:01<03:35,  4.15it/s]"
     ]
    },
    {
     "name": "stdout",
     "output_type": "stream",
     "text": [
      "fit coeffs too far off [%] [ 2.01963061  1.2475256  -0.00565134]\n"
     ]
    },
    {
     "name": "stderr",
     "output_type": "stream",
     "text": [
      " 30%|██▉       | 372/1261 [01:01<02:21,  6.30it/s]"
     ]
    },
    {
     "name": "stdout",
     "output_type": "stream",
     "text": [
      "fit coeffs too far off [%] [-1.25180102 -1.17977019  0.01329388]\n"
     ]
    },
    {
     "name": "stderr",
     "output_type": "stream",
     "text": [
      "\r",
      " 30%|██▉       | 373/1261 [01:02<02:33,  5.79it/s]"
     ]
    },
    {
     "name": "stdout",
     "output_type": "stream",
     "text": [
      "fit coeffs too far off [%] [-0.93646334 -1.06102309  0.0150968 ]\n",
      "fit coeffs too far off [%] [-1.60018097 -1.38451053  0.00972526]\n"
     ]
    },
    {
     "name": "stderr",
     "output_type": "stream",
     "text": [
      " 30%|██▉       | 375/1261 [01:02<02:48,  5.27it/s]"
     ]
    },
    {
     "name": "stdout",
     "output_type": "stream",
     "text": [
      "fit coeffs too far off [%] [-0.64188934 -0.50479725 -0.00884551]\n",
      "fit coeffs too far off [%] [-1.53133788 -1.14047692  0.00333165]\n"
     ]
    },
    {
     "name": "stderr",
     "output_type": "stream",
     "text": [
      "\r",
      " 30%|██▉       | 376/1261 [01:02<03:08,  4.70it/s]"
     ]
    },
    {
     "name": "stdout",
     "output_type": "stream",
     "text": [
      "fit coeffs too far off [%] [-0.74723365 -0.45162302  0.01404834]\n",
      "fit coeffs too far off [%] [-2.83665194 -1.26711158 -0.00537042]\n"
     ]
    },
    {
     "name": "stderr",
     "output_type": "stream",
     "text": [
      "\r",
      " 30%|██▉       | 377/1261 [01:03<03:28,  4.24it/s]"
     ]
    },
    {
     "name": "stdout",
     "output_type": "stream",
     "text": [
      "fit coeffs too far off [%] [-0.94960615 -0.66693499  0.00722598]\n",
      "fit coeffs too far off [%] [ -5.57566161e+00  -2.49507379e+00  -1.94769005e-03]\n"
     ]
    },
    {
     "name": "stderr",
     "output_type": "stream",
     "text": [
      "\r",
      " 30%|██▉       | 378/1261 [01:03<03:49,  3.85it/s]"
     ]
    },
    {
     "name": "stdout",
     "output_type": "stream",
     "text": [
      "fit coeffs too far off [%] [-1.11995892 -0.78026529  0.01146162]\n",
      "fit coeffs too far off [%] [ 1.46583286  0.903258   -0.01512325]\n"
     ]
    },
    {
     "name": "stderr",
     "output_type": "stream",
     "text": [
      "\r",
      " 30%|███       | 379/1261 [01:03<03:56,  3.73it/s]"
     ]
    },
    {
     "name": "stdout",
     "output_type": "stream",
     "text": [
      "fit coeffs too far off [%] [-1.26041205 -0.99394543  0.00188988]\n"
     ]
    },
    {
     "name": "stderr",
     "output_type": "stream",
     "text": [
      "\r",
      " 30%|███       | 380/1261 [01:03<03:41,  3.98it/s]"
     ]
    },
    {
     "name": "stdout",
     "output_type": "stream",
     "text": [
      "fit coeffs too far off [%] [-1.42545373 -1.23802036 -0.00874327]\n"
     ]
    },
    {
     "name": "stderr",
     "output_type": "stream",
     "text": [
      "\r",
      " 30%|███       | 381/1261 [01:04<03:29,  4.21it/s]"
     ]
    },
    {
     "name": "stdout",
     "output_type": "stream",
     "text": [
      "fit coeffs too far off [%] [-1.45763536 -1.35688594 -0.02541259]\n"
     ]
    },
    {
     "name": "stderr",
     "output_type": "stream",
     "text": [
      "\r",
      " 30%|███       | 382/1261 [01:04<03:24,  4.31it/s]"
     ]
    },
    {
     "name": "stdout",
     "output_type": "stream",
     "text": [
      "fit coeffs too far off [%] [-0.35528089 -0.56878983  0.01064575]\n"
     ]
    },
    {
     "name": "stderr",
     "output_type": "stream",
     "text": [
      " 30%|███       | 384/1261 [01:04<03:19,  4.41it/s]"
     ]
    },
    {
     "name": "stdout",
     "output_type": "stream",
     "text": [
      "fit coeffs too far off [%] [-1.10816158 -1.07641842  0.00555096]\n"
     ]
    },
    {
     "name": "stderr",
     "output_type": "stream",
     "text": [
      "\r",
      " 31%|███       | 385/1261 [01:04<03:20,  4.38it/s]"
     ]
    },
    {
     "name": "stdout",
     "output_type": "stream",
     "text": [
      "fit coeffs too far off [%] [-1.3245816  -1.28484177  0.00570115]\n"
     ]
    },
    {
     "name": "stderr",
     "output_type": "stream",
     "text": [
      "\r",
      " 31%|███       | 386/1261 [01:05<03:14,  4.50it/s]"
     ]
    },
    {
     "name": "stdout",
     "output_type": "stream",
     "text": [
      "fit coeffs too far off [%] [-1.58702916 -1.76207489  0.01159271]\n"
     ]
    },
    {
     "name": "stderr",
     "output_type": "stream",
     "text": [
      " 31%|███       | 388/1261 [01:05<02:56,  4.94it/s]"
     ]
    },
    {
     "name": "stdout",
     "output_type": "stream",
     "text": [
      "fit coeffs too far off [%] [-0.58237185 -0.51579319 -0.00657776]\n"
     ]
    },
    {
     "name": "stderr",
     "output_type": "stream",
     "text": [
      "\r",
      " 31%|███       | 389/1261 [01:05<03:11,  4.54it/s]"
     ]
    },
    {
     "name": "stdout",
     "output_type": "stream",
     "text": [
      "fit coeffs too far off [%] [-0.02055887  0.91652159 -0.04150285]\n"
     ]
    },
    {
     "name": "stderr",
     "output_type": "stream",
     "text": [
      "\r",
      " 31%|███       | 390/1261 [01:06<03:09,  4.59it/s]"
     ]
    },
    {
     "name": "stdout",
     "output_type": "stream",
     "text": [
      "fit coeffs too far off [%] [ 0.04335039  1.23789689 -0.05820714]\n",
      "fit coeffs too far off [%] [-1.12848486 -0.59330833 -0.001168  ]\n"
     ]
    },
    {
     "name": "stderr",
     "output_type": "stream",
     "text": [
      "\r",
      " 31%|███       | 391/1261 [01:06<03:30,  4.13it/s]"
     ]
    },
    {
     "name": "stdout",
     "output_type": "stream",
     "text": [
      "fit coeffs too far off [%] [-0.38405357  0.89394986 -0.05763011]\n"
     ]
    },
    {
     "name": "stderr",
     "output_type": "stream",
     "text": [
      "\r",
      " 31%|███       | 392/1261 [01:06<03:20,  4.33it/s]"
     ]
    },
    {
     "name": "stdout",
     "output_type": "stream",
     "text": [
      "fit coeffs too far off [%] [ 0.19455353  1.4408451  -0.07403034]\n",
      "fit coeffs too far off [%] [ -1.17948713e+00  -5.30022670e-01  -5.72594077e-04]\n"
     ]
    },
    {
     "name": "stderr",
     "output_type": "stream",
     "text": [
      "\r",
      " 31%|███       | 393/1261 [01:06<03:32,  4.09it/s]"
     ]
    },
    {
     "name": "stdout",
     "output_type": "stream",
     "text": [
      "fit coeffs too far off [%] [ 1.03727574  1.45538853 -0.0617501 ]\n"
     ]
    },
    {
     "name": "stderr",
     "output_type": "stream",
     "text": [
      "\r",
      " 31%|███       | 394/1261 [01:07<03:25,  4.22it/s]"
     ]
    },
    {
     "name": "stdout",
     "output_type": "stream",
     "text": [
      "fit coeffs too far off [%] [ 1.3848359   1.52093928 -0.07204144]\n",
      "fit coeffs too far off [%] [ 0.99036145  0.95063209  0.00501167]\n"
     ]
    },
    {
     "name": "stderr",
     "output_type": "stream",
     "text": [
      "\r",
      " 31%|███▏      | 395/1261 [01:07<03:44,  3.85it/s]"
     ]
    },
    {
     "name": "stdout",
     "output_type": "stream",
     "text": [
      "fit coeffs too far off [%] [ 2.070118    1.71142259 -0.07558779]\n"
     ]
    },
    {
     "name": "stderr",
     "output_type": "stream",
     "text": [
      "\r",
      " 31%|███▏      | 396/1261 [01:07<03:31,  4.09it/s]"
     ]
    },
    {
     "name": "stdout",
     "output_type": "stream",
     "text": [
      "fit coeffs too far off [%] [ -5.85528364e+00  -8.51200352e+03   3.46277044e-03]\n"
     ]
    },
    {
     "name": "stderr",
     "output_type": "stream",
     "text": [
      " 32%|███▏      | 398/1261 [01:07<03:05,  4.66it/s]"
     ]
    },
    {
     "name": "stdout",
     "output_type": "stream",
     "text": [
      "fit coeffs too far off [%] [  8.46642400e-01   3.04647063e-01  -4.12981853e-04]\n"
     ]
    },
    {
     "name": "stderr",
     "output_type": "stream",
     "text": [
      " 32%|███▏      | 400/1261 [01:08<03:05,  4.63it/s]"
     ]
    },
    {
     "name": "stdout",
     "output_type": "stream",
     "text": [
      "fit coeffs too far off [%] [ 0.97174853  0.53106146  0.00154578]\n"
     ]
    },
    {
     "name": "stderr",
     "output_type": "stream",
     "text": [
      " 32%|███▏      | 403/1261 [01:09<03:03,  4.67it/s]"
     ]
    },
    {
     "name": "stdout",
     "output_type": "stream",
     "text": [
      "fit coeffs too far off [%] [-0.62479519 -0.50086761 -0.01010985]\n"
     ]
    },
    {
     "name": "stderr",
     "output_type": "stream",
     "text": [
      "\r",
      " 32%|███▏      | 404/1261 [01:09<03:04,  4.64it/s]"
     ]
    },
    {
     "name": "stdout",
     "output_type": "stream",
     "text": [
      "fit coeffs too far off [%] [-0.92067453 -0.20089676 -0.00803951]\n"
     ]
    },
    {
     "name": "stderr",
     "output_type": "stream",
     "text": [
      "\r",
      " 32%|███▏      | 405/1261 [01:09<02:59,  4.76it/s]"
     ]
    },
    {
     "name": "stdout",
     "output_type": "stream",
     "text": [
      "fit coeffs too far off [%] [-1.00497571 -0.27341305  0.0053415 ]\n",
      "fit coeffs too far off [%] [-1.08488094 -0.76317884 -0.0129778 ]\n"
     ]
    },
    {
     "name": "stderr",
     "output_type": "stream",
     "text": [
      "\r",
      " 32%|███▏      | 406/1261 [01:09<03:19,  4.29it/s]"
     ]
    },
    {
     "name": "stdout",
     "output_type": "stream",
     "text": [
      "fit coeffs too far off [%] [-1.22857501 -0.26660319 -0.00636078]\n"
     ]
    },
    {
     "name": "stderr",
     "output_type": "stream",
     "text": [
      "\r",
      " 32%|███▏      | 407/1261 [01:10<03:16,  4.35it/s]"
     ]
    },
    {
     "name": "stdout",
     "output_type": "stream",
     "text": [
      "fit coeffs too far off [%] [-1.42697042 -0.27831517 -0.0112798 ]\n"
     ]
    },
    {
     "name": "stderr",
     "output_type": "stream",
     "text": [
      "\r",
      " 32%|███▏      | 408/1261 [01:10<03:12,  4.42it/s]"
     ]
    },
    {
     "name": "stdout",
     "output_type": "stream",
     "text": [
      "fit coeffs too far off [%] [-1.42452195 -0.27491254 -0.01020017]\n",
      "fit coeffs too far off [%] [-1.4273552  -0.97426559 -0.01459317]\n"
     ]
    },
    {
     "name": "stderr",
     "output_type": "stream",
     "text": [
      "\r",
      " 32%|███▏      | 409/1261 [01:10<03:33,  3.99it/s]"
     ]
    },
    {
     "name": "stdout",
     "output_type": "stream",
     "text": [
      "fit coeffs too far off [%] [-1.93701096 -0.39358029 -0.0084853 ]\n",
      "fit coeffs too far off [%] [-1.44970599 -1.03378345 -0.01659348]\n"
     ]
    },
    {
     "name": "stderr",
     "output_type": "stream",
     "text": [
      "\r",
      " 33%|███▎      | 410/1261 [01:10<03:46,  3.75it/s]"
     ]
    },
    {
     "name": "stdout",
     "output_type": "stream",
     "text": [
      "fit coeffs too far off [%] [-1.74570965 -0.27055302 -0.00887224]\n",
      "fit coeffs too far off [%] [-1.06601463 -0.86893267 -0.01993648]\n"
     ]
    },
    {
     "name": "stderr",
     "output_type": "stream",
     "text": [
      " 33%|███▎      | 412/1261 [01:11<03:23,  4.18it/s]"
     ]
    },
    {
     "name": "stdout",
     "output_type": "stream",
     "text": [
      "fit coeffs too far off [%] [  3.44953923e+00   1.06919592e+00   1.91792518e-03]\n"
     ]
    },
    {
     "name": "stderr",
     "output_type": "stream",
     "text": [
      " 33%|███▎      | 414/1261 [01:11<02:59,  4.72it/s]"
     ]
    },
    {
     "name": "stdout",
     "output_type": "stream",
     "text": [
      "fit coeffs too far off [%] [ -1.70982214e+00   7.90015725e-02  -1.01334968e-03]\n",
      "fit coeffs too far off [%] [ 1.06567204  0.79496035  0.00472345]\n"
     ]
    },
    {
     "name": "stderr",
     "output_type": "stream",
     "text": [
      "\r",
      " 33%|███▎      | 415/1261 [01:12<03:35,  3.92it/s]"
     ]
    },
    {
     "name": "stdout",
     "output_type": "stream",
     "text": [
      "fit coeffs too far off [%] [-5.16771548  0.13841619  0.01959076]\n"
     ]
    },
    {
     "name": "stderr",
     "output_type": "stream",
     "text": [
      "\r",
      " 33%|███▎      | 416/1261 [01:12<03:27,  4.07it/s]"
     ]
    },
    {
     "name": "stdout",
     "output_type": "stream",
     "text": [
      "fit coeffs too far off [%] [-4.59328732  0.32576998 -0.00827943]\n"
     ]
    },
    {
     "name": "stderr",
     "output_type": "stream",
     "text": [
      " 33%|███▎      | 419/1261 [01:12<02:35,  5.41it/s]"
     ]
    },
    {
     "name": "stdout",
     "output_type": "stream",
     "text": [
      "fit coeffs too far off [%] [-1.30813403 -0.97771133 -0.00501074]\n"
     ]
    },
    {
     "name": "stderr",
     "output_type": "stream",
     "text": [
      "\r",
      " 33%|███▎      | 420/1261 [01:12<02:43,  5.14it/s]"
     ]
    },
    {
     "name": "stdout",
     "output_type": "stream",
     "text": [
      "fit coeffs too far off [%] [-1.22552135 -1.01410349 -0.01059626]\n"
     ]
    },
    {
     "name": "stderr",
     "output_type": "stream",
     "text": [
      "\r",
      " 33%|███▎      | 421/1261 [01:13<02:56,  4.76it/s]"
     ]
    },
    {
     "name": "stdout",
     "output_type": "stream",
     "text": [
      "fit coeffs too far off [%] [-0.81488753 -0.67683005 -0.00705434]\n"
     ]
    },
    {
     "name": "stderr",
     "output_type": "stream",
     "text": [
      "\r",
      " 33%|███▎      | 422/1261 [01:13<03:01,  4.63it/s]"
     ]
    },
    {
     "name": "stdout",
     "output_type": "stream",
     "text": [
      "fit coeffs too far off [%] [-0.36133764 -0.71212937 -0.01716288]\n"
     ]
    },
    {
     "name": "stderr",
     "output_type": "stream",
     "text": [
      " 34%|███▎      | 424/1261 [01:13<02:46,  5.04it/s]"
     ]
    },
    {
     "name": "stdout",
     "output_type": "stream",
     "text": [
      "fit coeffs too far off [%] [ 0.73606887  0.58206954  0.00193122]\n"
     ]
    },
    {
     "name": "stderr",
     "output_type": "stream",
     "text": [
      " 34%|███▍      | 426/1261 [01:14<02:33,  5.44it/s]"
     ]
    },
    {
     "name": "stdout",
     "output_type": "stream",
     "text": [
      "fit coeffs too far off [%] [ 1.4281535   1.23434334  0.01430694]\n"
     ]
    },
    {
     "name": "stderr",
     "output_type": "stream",
     "text": [
      " 34%|███▍      | 428/1261 [01:14<02:30,  5.55it/s]"
     ]
    },
    {
     "name": "stdout",
     "output_type": "stream",
     "text": [
      "fit coeffs too far off [%] [  1.56682005e+01   1.03329324e+00   1.74404383e-03]\n"
     ]
    },
    {
     "name": "stderr",
     "output_type": "stream",
     "text": [
      " 34%|███▍      | 430/1261 [01:14<02:35,  5.34it/s]"
     ]
    },
    {
     "name": "stdout",
     "output_type": "stream",
     "text": [
      "fit coeffs too far off [%] [-0.70833009 -0.12329897 -0.00899912]\n",
      "fit coeffs too far off [%] [-2.0986383  -1.26935344 -0.00875419]\n"
     ]
    },
    {
     "name": "stderr",
     "output_type": "stream",
     "text": [
      " 34%|███▍      | 432/1261 [01:15<02:52,  4.79it/s]"
     ]
    },
    {
     "name": "stdout",
     "output_type": "stream",
     "text": [
      "fit coeffs too far off [%] [-1.66991037 -0.24674731 -0.01519889]\n",
      "fit coeffs too far off [%] [-0.68660957 -1.3826147   0.0020425 ]\n"
     ]
    },
    {
     "name": "stderr",
     "output_type": "stream",
     "text": [
      "\r",
      " 34%|███▍      | 433/1261 [01:15<03:24,  4.05it/s]"
     ]
    },
    {
     "name": "stdout",
     "output_type": "stream",
     "text": [
      "fit coeffs too far off [%] [-0.70994013  0.05540399 -0.05131298]\n"
     ]
    },
    {
     "name": "stderr",
     "output_type": "stream",
     "text": [
      "\r",
      " 34%|███▍      | 434/1261 [01:15<03:19,  4.15it/s]"
     ]
    },
    {
     "name": "stdout",
     "output_type": "stream",
     "text": [
      "fit coeffs too far off [%] [-2.04233085 -0.21756738 -0.02350225]\n",
      "fit coeffs too far off [%] [ -5.62059685e-01  -1.38089302e+00  -1.04481844e-03]\n"
     ]
    },
    {
     "name": "stderr",
     "output_type": "stream",
     "text": [
      "\r",
      " 34%|███▍      | 435/1261 [01:16<03:34,  3.85it/s]"
     ]
    },
    {
     "name": "stdout",
     "output_type": "stream",
     "text": [
      "fit coeffs too far off [%] [-3.46251861 -0.409951   -0.01366208]\n"
     ]
    },
    {
     "name": "stderr",
     "output_type": "stream",
     "text": [
      "\r",
      " 35%|███▍      | 436/1261 [01:16<03:22,  4.07it/s]"
     ]
    },
    {
     "name": "stdout",
     "output_type": "stream",
     "text": [
      "fit coeffs too far off [%] [-4.77860446 -0.63704731  0.01198705]\n",
      "fit coeffs too far off [%] [ -1.52360106e+00   6.33965764e-01  -8.24162198e-04]\n"
     ]
    },
    {
     "name": "stderr",
     "output_type": "stream",
     "text": [
      "\r",
      " 35%|███▍      | 437/1261 [01:16<03:53,  3.54it/s]"
     ]
    },
    {
     "name": "stdout",
     "output_type": "stream",
     "text": [
      "fit coeffs too far off [%] [-4.84946851 -0.81830911  0.05158834]\n"
     ]
    },
    {
     "name": "stderr",
     "output_type": "stream",
     "text": [
      "\r",
      " 35%|███▍      | 438/1261 [01:17<03:43,  3.67it/s]"
     ]
    },
    {
     "name": "stdout",
     "output_type": "stream",
     "text": [
      "fit coeffs too far off [%] [-5.65749953 -0.77939682  0.05007032]\n",
      "fit coeffs too far off [%] [ -7.96319395e+00   1.45631522e+00   7.01357341e-03]\n"
     ]
    },
    {
     "name": "stderr",
     "output_type": "stream",
     "text": [
      " 35%|███▍      | 440/1261 [01:17<03:16,  4.17it/s]"
     ]
    },
    {
     "name": "stdout",
     "output_type": "stream",
     "text": [
      "fit coeffs too far off [%] [ 0.00933569  5.16838153  0.03347921]\n",
      "fit coeffs too far off [%] [ 1.12157429  1.83820549 -0.01516756]\n"
     ]
    },
    {
     "name": "stderr",
     "output_type": "stream",
     "text": [
      " 35%|███▌      | 443/1261 [01:18<02:51,  4.76it/s]"
     ]
    },
    {
     "name": "stdout",
     "output_type": "stream",
     "text": [
      "fit coeffs too far off [%] [ 0.01811131 -1.37313881 -0.05021932]\n",
      "fit coeffs too far off [%] [-0.26116255 -1.63350615 -0.04511858]\n"
     ]
    },
    {
     "name": "stderr",
     "output_type": "stream",
     "text": [
      " 35%|███▌      | 445/1261 [01:18<02:53,  4.71it/s]"
     ]
    },
    {
     "name": "stdout",
     "output_type": "stream",
     "text": [
      "fit coeffs too far off [%] [-0.42231578 -0.67897623  0.01540506]\n"
     ]
    },
    {
     "name": "stderr",
     "output_type": "stream",
     "text": [
      "\r",
      " 35%|███▌      | 446/1261 [01:18<02:53,  4.69it/s]"
     ]
    },
    {
     "name": "stdout",
     "output_type": "stream",
     "text": [
      "fit coeffs too far off [%] [ -5.43958538e-02  -4.32673213e+01   1.40862134e-02]\n",
      "fit coeffs too far off [%] [-0.50539647 -0.67621547  0.00837588]\n"
     ]
    },
    {
     "name": "stderr",
     "output_type": "stream",
     "text": [
      "\r",
      " 35%|███▌      | 447/1261 [01:19<03:14,  4.18it/s]"
     ]
    },
    {
     "name": "stdout",
     "output_type": "stream",
     "text": [
      "fit coeffs too far off [%] [-0.66583035 -0.56762026 -0.00611893]\n"
     ]
    },
    {
     "name": "stderr",
     "output_type": "stream",
     "text": [
      "\r",
      " 36%|███▌      | 448/1261 [01:19<03:14,  4.19it/s]"
     ]
    },
    {
     "name": "stdout",
     "output_type": "stream",
     "text": [
      "fit coeffs too far off [%] [ -8.32357357e-01  -8.40420244e-01  -7.72950689e-04]\n"
     ]
    },
    {
     "name": "stderr",
     "output_type": "stream",
     "text": [
      " 36%|███▌      | 451/1261 [01:19<02:32,  5.31it/s]"
     ]
    },
    {
     "name": "stdout",
     "output_type": "stream",
     "text": [
      "fit coeffs too far off [%] [ 0.92373897  0.54210874 -0.00166309]\n"
     ]
    },
    {
     "name": "stderr",
     "output_type": "stream",
     "text": [
      "\r",
      " 36%|███▌      | 452/1261 [01:20<02:37,  5.13it/s]"
     ]
    },
    {
     "name": "stdout",
     "output_type": "stream",
     "text": [
      "fit coeffs too far off [%] [ 0.82648214  0.83576293 -0.00285644]\n"
     ]
    },
    {
     "name": "stderr",
     "output_type": "stream",
     "text": [
      " 36%|███▌      | 455/1261 [01:20<02:16,  5.91it/s]"
     ]
    },
    {
     "name": "stdout",
     "output_type": "stream",
     "text": [
      "fit coeffs too far off [%] [-0.78741419 -0.62721045  0.02177359]\n"
     ]
    },
    {
     "name": "stderr",
     "output_type": "stream",
     "text": [
      "\r",
      " 36%|███▌      | 456/1261 [01:20<02:26,  5.49it/s]"
     ]
    },
    {
     "name": "stdout",
     "output_type": "stream",
     "text": [
      "fit coeffs too far off [%] [-0.93052631 -0.75359847  0.02295306]\n",
      "fit coeffs too far off [%] [-0.72439773 -0.71419395  0.00679056]\n"
     ]
    },
    {
     "name": "stderr",
     "output_type": "stream",
     "text": [
      "\r",
      " 36%|███▌      | 457/1261 [01:21<03:01,  4.44it/s]"
     ]
    },
    {
     "name": "stdout",
     "output_type": "stream",
     "text": [
      "fit coeffs too far off [%] [-0.89021966 -0.53271315  0.03250448]\n",
      "fit coeffs too far off [%] [-0.77264251 -0.81942563  0.01002075]\n"
     ]
    },
    {
     "name": "stderr",
     "output_type": "stream",
     "text": [
      "\r",
      " 36%|███▋      | 458/1261 [01:21<03:18,  4.05it/s]"
     ]
    },
    {
     "name": "stdout",
     "output_type": "stream",
     "text": [
      "fit coeffs too far off [%] [-1.32116197 -1.24730086  0.02642867]\n",
      "fit coeffs too far off [%] [-0.73804867 -0.94614     0.01144668]\n"
     ]
    },
    {
     "name": "stderr",
     "output_type": "stream",
     "text": [
      "\r",
      " 36%|███▋      | 459/1261 [01:21<03:28,  3.85it/s]"
     ]
    },
    {
     "name": "stdout",
     "output_type": "stream",
     "text": [
      "fit coeffs too far off [%] [-2.02500909 -1.67458415  0.04644013]\n"
     ]
    },
    {
     "name": "stderr",
     "output_type": "stream",
     "text": [
      "\r",
      " 36%|███▋      | 460/1261 [01:21<03:15,  4.09it/s]"
     ]
    },
    {
     "name": "stdout",
     "output_type": "stream",
     "text": [
      "fit coeffs too far off [%] [-2.06324633 -1.91148885  0.03531312]\n",
      "fit coeffs too far off [%] [ 1.30106449 -0.14120575  0.00496122]\n"
     ]
    },
    {
     "name": "stderr",
     "output_type": "stream",
     "text": [
      "\r",
      " 37%|███▋      | 461/1261 [01:22<03:29,  3.81it/s]"
     ]
    },
    {
     "name": "stdout",
     "output_type": "stream",
     "text": [
      "fit coeffs too far off [%] [-2.56357431 -2.38073547  0.01302165]\n"
     ]
    },
    {
     "name": "stderr",
     "output_type": "stream",
     "text": [
      " 37%|███▋      | 465/1261 [01:22<02:22,  5.59it/s]"
     ]
    },
    {
     "name": "stdout",
     "output_type": "stream",
     "text": [
      "fit coeffs too far off [%] [ 0.66318447  0.67629569  0.00638953]\n"
     ]
    },
    {
     "name": "stderr",
     "output_type": "stream",
     "text": [
      " 37%|███▋      | 468/1261 [01:23<02:15,  5.84it/s]"
     ]
    },
    {
     "name": "stdout",
     "output_type": "stream",
     "text": [
      "fit coeffs too far off [%] [ 0.69301202  0.62869484  0.00485233]\n"
     ]
    },
    {
     "name": "stderr",
     "output_type": "stream",
     "text": [
      " 37%|███▋      | 470/1261 [01:23<02:13,  5.92it/s]"
     ]
    },
    {
     "name": "stdout",
     "output_type": "stream",
     "text": [
      "fit coeffs too far off [%] [ 0.32560128  0.63438117  0.01540837]\n"
     ]
    },
    {
     "name": "stderr",
     "output_type": "stream",
     "text": [
      "\r",
      " 37%|███▋      | 471/1261 [01:24<02:34,  5.12it/s]"
     ]
    },
    {
     "name": "stdout",
     "output_type": "stream",
     "text": [
      "fit coeffs too far off [%] [ 0.72356422  0.82185949  0.01323022]\n"
     ]
    },
    {
     "name": "stderr",
     "output_type": "stream",
     "text": [
      "\r",
      " 37%|███▋      | 472/1261 [01:24<02:35,  5.08it/s]"
     ]
    },
    {
     "name": "stdout",
     "output_type": "stream",
     "text": [
      "fit coeffs too far off [%] [ 0.48832478  0.69407505  0.01523864]\n"
     ]
    },
    {
     "name": "stderr",
     "output_type": "stream",
     "text": [
      " 38%|███▊      | 474/1261 [01:24<02:25,  5.41it/s]"
     ]
    },
    {
     "name": "stdout",
     "output_type": "stream",
     "text": [
      "fit coeffs too far off [%] [-1.00864914 -0.48498245  0.00642123]\n"
     ]
    },
    {
     "name": "stderr",
     "output_type": "stream",
     "text": [
      "\r",
      " 38%|███▊      | 475/1261 [01:24<02:29,  5.26it/s]"
     ]
    },
    {
     "name": "stdout",
     "output_type": "stream",
     "text": [
      "fit coeffs too far off [%] [-1.07772316 -0.27618244 -0.02157576]\n",
      "fit coeffs too far off [%] [-1.06427905 -0.10129881  0.01306826]\n"
     ]
    },
    {
     "name": "stderr",
     "output_type": "stream",
     "text": [
      "\r",
      " 38%|███▊      | 476/1261 [01:25<02:54,  4.51it/s]"
     ]
    },
    {
     "name": "stdout",
     "output_type": "stream",
     "text": [
      "fit coeffs too far off [%] [-1.03394102 -0.27547096 -0.01335073]\n",
      "fit coeffs too far off [%] [-0.90526182 -0.15000164  0.00922022]\n"
     ]
    },
    {
     "name": "stderr",
     "output_type": "stream",
     "text": [
      "\r",
      " 38%|███▊      | 477/1261 [01:25<03:08,  4.16it/s]"
     ]
    },
    {
     "name": "stdout",
     "output_type": "stream",
     "text": [
      "fit coeffs too far off [%] [-1.09296511 -0.13344484 -0.0298288 ]\n"
     ]
    },
    {
     "name": "stderr",
     "output_type": "stream",
     "text": [
      "\r",
      " 38%|███▊      | 478/1261 [01:25<03:06,  4.20it/s]"
     ]
    },
    {
     "name": "stdout",
     "output_type": "stream",
     "text": [
      "fit coeffs too far off [%] [-1.36128587 -0.10458401 -0.03938771]\n"
     ]
    },
    {
     "name": "stderr",
     "output_type": "stream",
     "text": [
      "\r",
      " 38%|███▊      | 479/1261 [01:25<03:01,  4.30it/s]"
     ]
    },
    {
     "name": "stdout",
     "output_type": "stream",
     "text": [
      "fit coeffs too far off [%] [-1.6296677  -0.07948889 -0.04178695]\n",
      "fit coeffs too far off [%] [-3.03663481 -0.67157825  0.003104  ]\n"
     ]
    },
    {
     "name": "stderr",
     "output_type": "stream",
     "text": [
      "\r",
      " 38%|███▊      | 480/1261 [01:26<03:17,  3.96it/s]"
     ]
    },
    {
     "name": "stdout",
     "output_type": "stream",
     "text": [
      "fit coeffs too far off [%] [-2.16598395 -0.05534732 -0.05471469]\n",
      "fit coeffs too far off [%] [-2.8063155  -0.50066485  0.00903799]\n"
     ]
    },
    {
     "name": "stderr",
     "output_type": "stream",
     "text": [
      "\r",
      " 38%|███▊      | 481/1261 [01:26<03:25,  3.80it/s]"
     ]
    },
    {
     "name": "stdout",
     "output_type": "stream",
     "text": [
      "fit coeffs too far off [%] [-1.77822725 -0.3405598   0.00216123]\n"
     ]
    },
    {
     "name": "stderr",
     "output_type": "stream",
     "text": [
      "\r",
      " 38%|███▊      | 482/1261 [01:26<03:17,  3.95it/s]"
     ]
    },
    {
     "name": "stdout",
     "output_type": "stream",
     "text": [
      "fit coeffs too far off [%] [ 0.92399257 -0.09542998 -0.01553919]\n",
      "fit coeffs too far off [%] [-1.72213757 -0.24377574  0.00854844]\n"
     ]
    },
    {
     "name": "stderr",
     "output_type": "stream",
     "text": [
      " 38%|███▊      | 484/1261 [01:27<03:05,  4.18it/s]"
     ]
    },
    {
     "name": "stdout",
     "output_type": "stream",
     "text": [
      "fit coeffs too far off [%] [-0.97752116  0.08514789 -0.00432753]\n"
     ]
    },
    {
     "name": "stderr",
     "output_type": "stream",
     "text": [
      " 39%|███▊      | 487/1261 [01:27<02:23,  5.38it/s]"
     ]
    },
    {
     "name": "stdout",
     "output_type": "stream",
     "text": [
      "fit coeffs too far off [%] [-1.06901288  0.11540365  0.02901775]\n",
      "fit coeffs too far off [%] [-0.99292377 -0.38958615 -0.00897804]\n"
     ]
    },
    {
     "name": "stderr",
     "output_type": "stream",
     "text": [
      "\r",
      " 39%|███▊      | 488/1261 [01:27<02:52,  4.49it/s]"
     ]
    },
    {
     "name": "stdout",
     "output_type": "stream",
     "text": [
      "fit coeffs too far off [%] [-0.90786184 -0.39764024  0.0532245 ]\n"
     ]
    },
    {
     "name": "stderr",
     "output_type": "stream",
     "text": [
      "\r",
      " 39%|███▉      | 489/1261 [01:28<02:53,  4.46it/s]"
     ]
    },
    {
     "name": "stdout",
     "output_type": "stream",
     "text": [
      "fit coeffs too far off [%] [-1.04523199 -0.4843033   0.0628198 ]\n",
      "fit coeffs too far off [%] [-1.91552742 -0.98939402 -0.0226552 ]\n"
     ]
    },
    {
     "name": "stderr",
     "output_type": "stream",
     "text": [
      "\r",
      " 39%|███▉      | 490/1261 [01:28<03:07,  4.11it/s]"
     ]
    },
    {
     "name": "stdout",
     "output_type": "stream",
     "text": [
      "fit coeffs too far off [%] [ -1.29437919e+00   1.39334450e-04   4.42652510e-02]\n",
      "fit coeffs too far off [%] [-2.09803814 -1.14203693 -0.02152198]\n"
     ]
    },
    {
     "name": "stderr",
     "output_type": "stream",
     "text": [
      " 39%|███▉      | 492/1261 [01:28<02:52,  4.46it/s]"
     ]
    },
    {
     "name": "stdout",
     "output_type": "stream",
     "text": [
      "fit coeffs too far off [%] [-1.18368396 -4.99672637 -0.03227   ]\n",
      "fit coeffs too far off [%] [-0.23260665 -1.20063251  0.00975626]\n"
     ]
    },
    {
     "name": "stderr",
     "output_type": "stream",
     "text": [
      " 39%|███▉      | 494/1261 [01:29<02:43,  4.69it/s]"
     ]
    },
    {
     "name": "stdout",
     "output_type": "stream",
     "text": [
      "fit coeffs too far off [%] [ 0.17076729  0.59023499 -0.02475486]\n"
     ]
    },
    {
     "name": "stderr",
     "output_type": "stream",
     "text": [
      "\r",
      " 39%|███▉      | 495/1261 [01:29<02:43,  4.67it/s]"
     ]
    },
    {
     "name": "stdout",
     "output_type": "stream",
     "text": [
      "fit coeffs too far off [%] [-0.19785816  0.84327737  0.00768241]\n"
     ]
    },
    {
     "name": "stderr",
     "output_type": "stream",
     "text": [
      "\r",
      " 39%|███▉      | 496/1261 [01:29<02:48,  4.53it/s]"
     ]
    },
    {
     "name": "stdout",
     "output_type": "stream",
     "text": [
      "fit coeffs too far off [%] [-0.55416443  0.92004356  0.00120176]\n"
     ]
    },
    {
     "name": "stderr",
     "output_type": "stream",
     "text": [
      " 39%|███▉      | 498/1261 [01:30<02:34,  4.93it/s]"
     ]
    },
    {
     "name": "stdout",
     "output_type": "stream",
     "text": [
      "fit coeffs too far off [%] [-0.94315264 -0.69148945 -0.01508516]\n"
     ]
    },
    {
     "name": "stderr",
     "output_type": "stream",
     "text": [
      "\r",
      " 40%|███▉      | 499/1261 [01:30<02:36,  4.87it/s]"
     ]
    },
    {
     "name": "stdout",
     "output_type": "stream",
     "text": [
      "fit coeffs too far off [%] [-0.71342343  0.28501274 -0.00952878]\n"
     ]
    },
    {
     "name": "stderr",
     "output_type": "stream",
     "text": [
      "\r",
      " 40%|███▉      | 500/1261 [01:30<02:39,  4.78it/s]"
     ]
    },
    {
     "name": "stdout",
     "output_type": "stream",
     "text": [
      "fit coeffs too far off [%] [-2.39027199  0.98748777 -0.04088805]\n",
      "fit coeffs too far off [%] [-0.73924976 -0.19469154  0.00644412]\n"
     ]
    },
    {
     "name": "stderr",
     "output_type": "stream",
     "text": [
      "\r",
      " 40%|███▉      | 501/1261 [01:30<02:56,  4.30it/s]"
     ]
    },
    {
     "name": "stdout",
     "output_type": "stream",
     "text": [
      "fit coeffs too far off [%] [-1.82129115  1.12655707 -0.06147122]\n"
     ]
    },
    {
     "name": "stderr",
     "output_type": "stream",
     "text": [
      "\r",
      " 40%|███▉      | 502/1261 [01:31<02:53,  4.38it/s]"
     ]
    },
    {
     "name": "stdout",
     "output_type": "stream",
     "text": [
      "fit coeffs too far off [%] [-3.80007359  1.95504622 -0.09300859]\n"
     ]
    },
    {
     "name": "stderr",
     "output_type": "stream",
     "text": [
      " 40%|████      | 505/1261 [01:31<02:19,  5.44it/s]"
     ]
    },
    {
     "name": "stdout",
     "output_type": "stream",
     "text": [
      "fit coeffs too far off [%] [-1.94062556 -0.82640623 -0.01452218]\n"
     ]
    },
    {
     "name": "stderr",
     "output_type": "stream",
     "text": [
      " 40%|████      | 507/1261 [01:31<02:13,  5.66it/s]"
     ]
    },
    {
     "name": "stdout",
     "output_type": "stream",
     "text": [
      "fit coeffs too far off [%] [-0.94340752 -0.32689207 -0.00461775]\n"
     ]
    },
    {
     "name": "stderr",
     "output_type": "stream",
     "text": [
      " 40%|████      | 509/1261 [01:32<02:14,  5.57it/s]"
     ]
    },
    {
     "name": "stdout",
     "output_type": "stream",
     "text": [
      "fit coeffs too far off [%] [-0.79958849 -0.10085292 -0.01517744]\n"
     ]
    },
    {
     "name": "stderr",
     "output_type": "stream",
     "text": [
      " 41%|████      | 511/1261 [01:32<02:12,  5.67it/s]"
     ]
    },
    {
     "name": "stdout",
     "output_type": "stream",
     "text": [
      "fit coeffs too far off [%] [ 0.74023142  0.08267821 -0.0058768 ]\n"
     ]
    },
    {
     "name": "stderr",
     "output_type": "stream",
     "text": [
      "\r",
      " 41%|████      | 512/1261 [01:32<02:21,  5.29it/s]"
     ]
    },
    {
     "name": "stdout",
     "output_type": "stream",
     "text": [
      "fit coeffs too far off [%] [-1.16253568 -0.46516141 -0.01516215]\n"
     ]
    },
    {
     "name": "stderr",
     "output_type": "stream",
     "text": [
      "\r",
      " 41%|████      | 513/1261 [01:33<02:34,  4.83it/s]"
     ]
    },
    {
     "name": "stdout",
     "output_type": "stream",
     "text": [
      "fit coeffs too far off [%] [-1.41425143 -0.62696804 -0.02451607]\n"
     ]
    },
    {
     "name": "stderr",
     "output_type": "stream",
     "text": [
      " 41%|████      | 515/1261 [01:33<02:24,  5.18it/s]"
     ]
    },
    {
     "name": "stdout",
     "output_type": "stream",
     "text": [
      "fit coeffs too far off [%] [-4.71192415 -1.59633239 -0.03236908]\n"
     ]
    },
    {
     "name": "stderr",
     "output_type": "stream",
     "text": [
      "\r",
      " 41%|████      | 516/1261 [01:33<02:29,  4.97it/s]"
     ]
    },
    {
     "name": "stdout",
     "output_type": "stream",
     "text": [
      "fit coeffs too far off [%] [-3.26167038 -1.12563715 -0.02059988]\n"
     ]
    },
    {
     "name": "stderr",
     "output_type": "stream",
     "text": [
      "\r",
      " 41%|████      | 517/1261 [01:33<02:30,  4.94it/s]"
     ]
    },
    {
     "name": "stdout",
     "output_type": "stream",
     "text": [
      "fit coeffs too far off [%] [-5.67090793 -1.26471333 -0.01394984]\n"
     ]
    },
    {
     "name": "stderr",
     "output_type": "stream",
     "text": [
      "\r",
      " 41%|████      | 518/1261 [01:34<02:37,  4.73it/s]"
     ]
    },
    {
     "name": "stdout",
     "output_type": "stream",
     "text": [
      "fit coeffs too far off [%] [-3.21439048 -0.52073711  0.01465699]\n",
      "fit coeffs too far off [%] [-4.30498461 -1.03814898 -0.00510908]\n"
     ]
    },
    {
     "name": "stderr",
     "output_type": "stream",
     "text": [
      "\r",
      " 41%|████      | 519/1261 [01:34<02:54,  4.26it/s]"
     ]
    },
    {
     "name": "stdout",
     "output_type": "stream",
     "text": [
      "fit coeffs too far off [%] [-3.66557212 -0.56929839  0.00626338]\n"
     ]
    },
    {
     "name": "stderr",
     "output_type": "stream",
     "text": [
      "\r",
      " 41%|████      | 520/1261 [01:34<02:57,  4.17it/s]"
     ]
    },
    {
     "name": "stdout",
     "output_type": "stream",
     "text": [
      "fit coeffs too far off [%] [-3.1329001  -0.66351157  0.03400765]\n",
      "fit coeffs too far off [%] [ -6.47780014e-01   1.77100936e+00  -1.20280532e-03]\n"
     ]
    },
    {
     "name": "stderr",
     "output_type": "stream",
     "text": [
      "\r",
      " 41%|████▏     | 521/1261 [01:34<03:05,  3.99it/s]"
     ]
    },
    {
     "name": "stdout",
     "output_type": "stream",
     "text": [
      "fit coeffs too far off [%] [-2.73197578 -0.62617817  0.04349769]\n"
     ]
    },
    {
     "name": "stderr",
     "output_type": "stream",
     "text": [
      "\r",
      " 41%|████▏     | 522/1261 [01:35<02:58,  4.13it/s]"
     ]
    },
    {
     "name": "stdout",
     "output_type": "stream",
     "text": [
      "fit coeffs too far off [%] [-2.11341322 -0.6339589   0.0586975 ]\n",
      "fit coeffs too far off [%] [-2.00024348 -0.66451247  0.08081152]\n"
     ]
    },
    {
     "name": "stderr",
     "output_type": "stream",
     "text": [
      "\r",
      " 41%|████▏     | 523/1261 [01:35<02:56,  4.18it/s]"
     ]
    },
    {
     "name": "stdout",
     "output_type": "stream",
     "text": [
      "fit coeffs too far off [%] [ 0.77774347  0.38553381  0.00404338]\n"
     ]
    },
    {
     "name": "stderr",
     "output_type": "stream",
     "text": [
      "\r",
      " 42%|████▏     | 524/1261 [01:35<03:15,  3.78it/s]"
     ]
    },
    {
     "name": "stdout",
     "output_type": "stream",
     "text": [
      "fit coeffs too far off [%] [-0.88131307 -0.55592464  0.09796061]\n",
      "fit coeffs too far off [%] [-5.01679844 -1.34898892 -0.01188659]\n"
     ]
    },
    {
     "name": "stderr",
     "output_type": "stream",
     "text": [
      " 42%|████▏     | 526/1261 [01:36<02:51,  4.29it/s]"
     ]
    },
    {
     "name": "stdout",
     "output_type": "stream",
     "text": [
      "fit coeffs too far off [%] [ 0.89618521  0.3312907  -0.02959596]\n",
      "fit coeffs too far off [%] [ 1.25900369  0.74137171  0.01722981]\n"
     ]
    },
    {
     "name": "stderr",
     "output_type": "stream",
     "text": [
      " 42%|████▏     | 528/1261 [01:36<02:40,  4.56it/s]"
     ]
    },
    {
     "name": "stdout",
     "output_type": "stream",
     "text": [
      "fit coeffs too far off [%] [ 17.95817895   0.53468034  -0.03465494]\n",
      "fit coeffs too far off [%] [-0.75745007  2.02115373  0.0177788 ]\n"
     ]
    },
    {
     "name": "stderr",
     "output_type": "stream",
     "text": [
      " 42%|████▏     | 530/1261 [01:37<02:40,  4.55it/s]"
     ]
    },
    {
     "name": "stdout",
     "output_type": "stream",
     "text": [
      "fit coeffs too far off [%] [-4.05237401  0.05470825  0.03301077]\n",
      "fit coeffs too far off [%] [ 9.15243094 -4.93761089 -0.05132326]\n"
     ]
    },
    {
     "name": "stderr",
     "output_type": "stream",
     "text": [
      " 42%|████▏     | 532/1261 [01:37<02:38,  4.61it/s]"
     ]
    },
    {
     "name": "stdout",
     "output_type": "stream",
     "text": [
      "fit coeffs too far off [%] [-7.51253019 -3.19667556  0.11511753]\n",
      "fit coeffs too far off [%] [ 0.42454698  0.62646952 -0.05671571]\n"
     ]
    },
    {
     "name": "stderr",
     "output_type": "stream",
     "text": [
      " 42%|████▏     | 534/1261 [01:38<02:42,  4.47it/s]"
     ]
    },
    {
     "name": "stdout",
     "output_type": "stream",
     "text": [
      "fit coeffs too far off [%] [ 0.45859601  0.54390419  0.04585154]\n",
      "fit coeffs too far off [%] [-1.45222402 -1.14115526  0.06127676]\n"
     ]
    },
    {
     "name": "stderr",
     "output_type": "stream",
     "text": [
      " 43%|████▎     | 537/1261 [01:38<02:23,  5.03it/s]"
     ]
    },
    {
     "name": "stdout",
     "output_type": "stream",
     "text": [
      "fit coeffs too far off [%] [-0.86025108 -1.0986221  -0.09533009]\n"
     ]
    },
    {
     "name": "stderr",
     "output_type": "stream",
     "text": [
      "\r",
      " 43%|████▎     | 538/1261 [01:38<02:33,  4.71it/s]"
     ]
    },
    {
     "name": "stdout",
     "output_type": "stream",
     "text": [
      "fit coeffs too far off [%] [-0.82523762 -1.1100314  -0.09075944]\n"
     ]
    },
    {
     "name": "stderr",
     "output_type": "stream",
     "text": [
      "\r",
      " 43%|████▎     | 539/1261 [01:39<02:41,  4.47it/s]"
     ]
    },
    {
     "name": "stdout",
     "output_type": "stream",
     "text": [
      "fit coeffs too far off [%] [ 0.14875207  0.51087178  0.02638688]\n"
     ]
    },
    {
     "name": "stderr",
     "output_type": "stream",
     "text": [
      "\r",
      " 43%|████▎     | 540/1261 [01:39<02:48,  4.29it/s]"
     ]
    },
    {
     "name": "stdout",
     "output_type": "stream",
     "text": [
      "fit coeffs too far off [%] [ 10.97076872   0.97981232  -0.0170402 ]\n"
     ]
    },
    {
     "name": "stderr",
     "output_type": "stream",
     "text": [
      " 43%|████▎     | 544/1261 [01:40<02:10,  5.51it/s]"
     ]
    },
    {
     "name": "stdout",
     "output_type": "stream",
     "text": [
      "fit coeffs too far off [%] [ 0.60473665  0.74482491  0.02608032]\n"
     ]
    },
    {
     "name": "stderr",
     "output_type": "stream",
     "text": [
      "\r",
      " 43%|████▎     | 545/1261 [01:40<02:16,  5.23it/s]"
     ]
    },
    {
     "name": "stdout",
     "output_type": "stream",
     "text": [
      "fit coeffs too far off [%] [ 2.99026772  2.68596215  0.09363875]\n"
     ]
    },
    {
     "name": "stderr",
     "output_type": "stream",
     "text": [
      "\r",
      " 43%|████▎     | 546/1261 [01:40<02:27,  4.85it/s]"
     ]
    },
    {
     "name": "stdout",
     "output_type": "stream",
     "text": [
      "fit coeffs too far off [%] [ 4.37142264  3.85738186  0.14430433]\n"
     ]
    },
    {
     "name": "stderr",
     "output_type": "stream",
     "text": [
      "\r",
      " 43%|████▎     | 547/1261 [01:40<02:31,  4.71it/s]"
     ]
    },
    {
     "name": "stdout",
     "output_type": "stream",
     "text": [
      "fit coeffs too far off [%] [ 2.79874843  2.59298612  0.10972221]\n"
     ]
    },
    {
     "name": "stderr",
     "output_type": "stream",
     "text": [
      "\r",
      " 43%|████▎     | 548/1261 [01:40<02:30,  4.73it/s]"
     ]
    },
    {
     "name": "stdout",
     "output_type": "stream",
     "text": [
      "fit coeffs too far off [%] [-0.74227577 -0.13918165 -0.02774161]\n"
     ]
    },
    {
     "name": "stderr",
     "output_type": "stream",
     "text": [
      " 44%|████▍     | 554/1261 [01:41<01:53,  6.22it/s]"
     ]
    },
    {
     "name": "stdout",
     "output_type": "stream",
     "text": [
      "fit coeffs too far off [%] [-1.14820791 -0.30366978  0.01707976]\n"
     ]
    },
    {
     "name": "stderr",
     "output_type": "stream",
     "text": [
      "\r",
      " 44%|████▍     | 555/1261 [01:42<02:22,  4.97it/s]"
     ]
    },
    {
     "name": "stdout",
     "output_type": "stream",
     "text": [
      "Trouble ahead! 3 lanes detected!\n",
      "fit coeffs too far off [%] [-2.31146605 -0.73600246  0.00440204]\n"
     ]
    },
    {
     "name": "stderr",
     "output_type": "stream",
     "text": [
      "\r",
      " 44%|████▍     | 556/1261 [01:42<02:37,  4.47it/s]"
     ]
    },
    {
     "name": "stdout",
     "output_type": "stream",
     "text": [
      "Trouble ahead! 3 lanes detected!\n",
      "fit coeffs too far off [%] [-3.50999749 -1.37314786 -0.02336963]\n"
     ]
    },
    {
     "name": "stderr",
     "output_type": "stream",
     "text": [
      "\r",
      " 44%|████▍     | 557/1261 [01:42<02:53,  4.07it/s]"
     ]
    },
    {
     "name": "stdout",
     "output_type": "stream",
     "text": [
      "Trouble ahead! 3 lanes detected!\n",
      "fit coeffs too far off [%] [ -1.23804240e+00  -3.28887044e-01   7.42821113e-04]\n"
     ]
    },
    {
     "name": "stderr",
     "output_type": "stream",
     "text": [
      "\r",
      " 44%|████▍     | 558/1261 [01:43<02:53,  4.05it/s]"
     ]
    },
    {
     "name": "stdout",
     "output_type": "stream",
     "text": [
      "Trouble ahead! 3 lanes detected!\n"
     ]
    },
    {
     "name": "stderr",
     "output_type": "stream",
     "text": [
      "\r",
      " 44%|████▍     | 559/1261 [01:43<02:35,  4.51it/s]"
     ]
    },
    {
     "name": "stdout",
     "output_type": "stream",
     "text": [
      "fit coeffs too far off [%] [-1.47515115 -0.27896128  0.02355871]\n"
     ]
    },
    {
     "name": "stderr",
     "output_type": "stream",
     "text": [
      "\r",
      " 44%|████▍     | 560/1261 [01:43<02:39,  4.39it/s]"
     ]
    },
    {
     "name": "stdout",
     "output_type": "stream",
     "text": [
      "Trouble ahead! 3 lanes detected!\n",
      "fit coeffs too far off [%] [-0.78744305  0.20744513 -0.19190581]\n",
      "fit coeffs too far off [%] [-0.71618689  0.19362028  0.07293569]\n",
      "Trouble ahead! 3 lanes detected!\n",
      "Trouble ahead! 3 lanes detected!\n",
      "fit coeffs too far off [%] [-0.58057953  0.30952429 -0.23037329]\n",
      "fit coeffs too far off [%] [ 0.56906641  0.67516203  0.09611039]\n"
     ]
    },
    {
     "name": "stderr",
     "output_type": "stream",
     "text": [
      "\r",
      " 44%|████▍     | 561/1261 [01:43<03:12,  3.64it/s]"
     ]
    },
    {
     "name": "stdout",
     "output_type": "stream",
     "text": [
      "Trouble ahead! 3 lanes detected!\n",
      "Trouble ahead! 3 lanes detected!\n",
      "fit coeffs too far off [%] [ 0.01388618  0.67487526 -0.30211722]\n",
      "fit coeffs too far off [%] [ 3.38442217  1.26951739  0.12661972]\n"
     ]
    },
    {
     "name": "stderr",
     "output_type": "stream",
     "text": [
      " 45%|████▍     | 563/1261 [01:44<03:36,  3.22it/s]"
     ]
    },
    {
     "name": "stdout",
     "output_type": "stream",
     "text": [
      "fit coeffs too far off [%] [-0.32061589  0.15829667 -0.15574494]\n"
     ]
    },
    {
     "name": "stderr",
     "output_type": "stream",
     "text": [
      "\r",
      " 45%|████▍     | 564/1261 [01:44<03:20,  3.48it/s]"
     ]
    },
    {
     "name": "stdout",
     "output_type": "stream",
     "text": [
      "fit coeffs too far off [%] [-1.23696707 -0.76398443 -0.08247921]\n"
     ]
    },
    {
     "name": "stderr",
     "output_type": "stream",
     "text": [
      " 45%|████▍     | 566/1261 [01:45<02:42,  4.27it/s]"
     ]
    },
    {
     "name": "stdout",
     "output_type": "stream",
     "text": [
      "fit coeffs too far off [%] [-0.69807473 -0.67136761  0.13632988]\n",
      "fit coeffs too far off [%] [ 1.43890117 -4.1358655  -0.04436808]\n"
     ]
    },
    {
     "name": "stderr",
     "output_type": "stream",
     "text": [
      "\r",
      " 45%|████▍     | 567/1261 [01:45<02:52,  4.03it/s]"
     ]
    },
    {
     "name": "stdout",
     "output_type": "stream",
     "text": [
      "fit coeffs too far off [%] [-1.21668216 -0.94076001  0.1964429 ]\n"
     ]
    },
    {
     "name": "stderr",
     "output_type": "stream",
     "text": [
      "\r",
      " 45%|████▌     | 568/1261 [01:45<02:46,  4.16it/s]"
     ]
    },
    {
     "name": "stdout",
     "output_type": "stream",
     "text": [
      "fit coeffs too far off [%] [-0.75806476 -0.72271523  0.1869355 ]\n",
      "fit coeffs too far off [%] [ 0.42306289  0.59112217 -0.01676191]\n"
     ]
    },
    {
     "name": "stderr",
     "output_type": "stream",
     "text": [
      "\r",
      " 45%|████▌     | 569/1261 [01:45<02:58,  3.87it/s]"
     ]
    },
    {
     "name": "stdout",
     "output_type": "stream",
     "text": [
      "fit coeffs too far off [%] [-0.66375176 -0.55676155  0.13185493]\n"
     ]
    },
    {
     "name": "stderr",
     "output_type": "stream",
     "text": [
      "\r",
      " 45%|████▌     | 570/1261 [01:46<02:55,  3.93it/s]"
     ]
    },
    {
     "name": "stdout",
     "output_type": "stream",
     "text": [
      "fit coeffs too far off [%] [-0.93054484 -0.64315375  0.11729458]\n"
     ]
    },
    {
     "name": "stderr",
     "output_type": "stream",
     "text": [
      "\r",
      " 45%|████▌     | 571/1261 [01:46<02:47,  4.11it/s]"
     ]
    },
    {
     "name": "stdout",
     "output_type": "stream",
     "text": [
      "fit coeffs too far off [%] [-0.56095273 -0.85634157  0.05629574]\n"
     ]
    },
    {
     "name": "stderr",
     "output_type": "stream",
     "text": [
      "\r",
      " 45%|████▌     | 572/1261 [01:46<02:43,  4.22it/s]"
     ]
    },
    {
     "name": "stdout",
     "output_type": "stream",
     "text": [
      "fit coeffs too far off [%] [-8.10216639 -0.44907892  0.02753609]\n",
      "fit coeffs too far off [%] [-0.62454806 -0.90245981  0.05128191]\n"
     ]
    },
    {
     "name": "stderr",
     "output_type": "stream",
     "text": [
      " 46%|████▌     | 574/1261 [01:47<02:39,  4.32it/s]"
     ]
    },
    {
     "name": "stdout",
     "output_type": "stream",
     "text": [
      "fit coeffs too far off [%] [ 3.20651064  0.16635179  0.00497423]\n",
      "fit coeffs too far off [%] [-0.23966016 -0.71697508 -0.00164604]\n"
     ]
    },
    {
     "name": "stderr",
     "output_type": "stream",
     "text": [
      " 46%|████▌     | 576/1261 [01:47<02:31,  4.51it/s]"
     ]
    },
    {
     "name": "stdout",
     "output_type": "stream",
     "text": [
      "fit coeffs too far off [%] [ 1.18941758 -0.80646336  0.03565842]\n"
     ]
    },
    {
     "name": "stderr",
     "output_type": "stream",
     "text": [
      "\r",
      " 46%|████▌     | 577/1261 [01:47<02:30,  4.55it/s]"
     ]
    },
    {
     "name": "stdout",
     "output_type": "stream",
     "text": [
      "fit coeffs too far off [%] [-0.92624884 -2.85516495 -0.01083748]\n"
     ]
    },
    {
     "name": "stderr",
     "output_type": "stream",
     "text": [
      "\r",
      " 46%|████▌     | 578/1261 [01:48<02:30,  4.52it/s]"
     ]
    },
    {
     "name": "stdout",
     "output_type": "stream",
     "text": [
      "fit coeffs too far off [%] [ 0.54563288  7.19811845 -0.02932683]\n"
     ]
    },
    {
     "name": "stderr",
     "output_type": "stream",
     "text": [
      "\r",
      " 46%|████▌     | 579/1261 [01:48<02:33,  4.45it/s]"
     ]
    },
    {
     "name": "stdout",
     "output_type": "stream",
     "text": [
      "fit coeffs too far off [%] [-0.7366648  -0.85701828 -0.02238898]\n"
     ]
    },
    {
     "name": "stderr",
     "output_type": "stream",
     "text": [
      " 46%|████▌     | 581/1261 [01:48<02:15,  5.01it/s]"
     ]
    },
    {
     "name": "stdout",
     "output_type": "stream",
     "text": [
      "fit coeffs too far off [%] [ 0.50818468  0.60480252 -0.01393375]\n"
     ]
    },
    {
     "name": "stderr",
     "output_type": "stream",
     "text": [
      "\r",
      " 46%|████▌     | 582/1261 [01:48<02:32,  4.45it/s]"
     ]
    },
    {
     "name": "stdout",
     "output_type": "stream",
     "text": [
      "Trouble ahead! 3 lanes detected!\n",
      "fit coeffs too far off [%] [-0.75477265 -0.96600349 -0.06268683]\n"
     ]
    },
    {
     "name": "stderr",
     "output_type": "stream",
     "text": [
      "\r",
      " 46%|████▌     | 583/1261 [01:49<02:31,  4.48it/s]"
     ]
    },
    {
     "name": "stdout",
     "output_type": "stream",
     "text": [
      "fit coeffs too far off [%] [-2.09384777 -2.57806308 -0.16956107]\n",
      "fit coeffs too far off [%] [-1.44187767 -1.60878437  0.03749395]\n"
     ]
    },
    {
     "name": "stderr",
     "output_type": "stream",
     "text": [
      "\r",
      " 46%|████▋     | 584/1261 [01:49<02:45,  4.10it/s]"
     ]
    },
    {
     "name": "stdout",
     "output_type": "stream",
     "text": [
      "fit coeffs too far off [%] [-4.04469512 -4.97914965 -0.20209601]\n",
      "fit coeffs too far off [%] [-1.62801899 -1.67059523  0.03409863]\n",
      "Trouble ahead! 3 lanes detected!\n"
     ]
    },
    {
     "name": "stderr",
     "output_type": "stream",
     "text": [
      "\r",
      " 46%|████▋     | 585/1261 [01:49<03:08,  3.58it/s]"
     ]
    },
    {
     "name": "stdout",
     "output_type": "stream",
     "text": [
      "Trouble ahead! 3 lanes detected!\n",
      "fit coeffs too far off [%] [-1.18896454 -1.05800592  0.18919778]\n"
     ]
    },
    {
     "name": "stderr",
     "output_type": "stream",
     "text": [
      " 47%|████▋     | 588/1261 [01:50<02:22,  4.72it/s]"
     ]
    },
    {
     "name": "stdout",
     "output_type": "stream",
     "text": [
      "fit coeffs too far off [%] [-8.81114541 -2.08092432  0.08758344]\n"
     ]
    },
    {
     "name": "stderr",
     "output_type": "stream",
     "text": [
      "\r",
      " 47%|████▋     | 589/1261 [01:50<02:22,  4.73it/s]"
     ]
    },
    {
     "name": "stdout",
     "output_type": "stream",
     "text": [
      "fit coeffs too far off [%] [ 1.12333172  0.98933044  0.02161372]\n"
     ]
    },
    {
     "name": "stderr",
     "output_type": "stream",
     "text": [
      "\r",
      " 47%|████▋     | 590/1261 [01:50<02:28,  4.53it/s]"
     ]
    },
    {
     "name": "stdout",
     "output_type": "stream",
     "text": [
      "fit coeffs too far off [%] [-3.11865568  1.79733361 -0.08117641]\n"
     ]
    },
    {
     "name": "stderr",
     "output_type": "stream",
     "text": [
      " 47%|████▋     | 595/1261 [01:51<01:52,  5.93it/s]"
     ]
    },
    {
     "name": "stdout",
     "output_type": "stream",
     "text": [
      "fit coeffs too far off [%] [-3.54494581 -2.44860072  0.59885965]\n",
      "fit coeffs too far off [%] [-0.82922585 -0.31646161 -0.00095099]\n"
     ]
    },
    {
     "name": "stderr",
     "output_type": "stream",
     "text": [
      "\r",
      " 47%|████▋     | 596/1261 [01:51<02:24,  4.60it/s]"
     ]
    },
    {
     "name": "stdout",
     "output_type": "stream",
     "text": [
      "fit coeffs too far off [%] [-3.62824029 -2.50554911  0.65147765]\n"
     ]
    },
    {
     "name": "stderr",
     "output_type": "stream",
     "text": [
      "\r",
      " 47%|████▋     | 597/1261 [01:52<02:25,  4.55it/s]"
     ]
    },
    {
     "name": "stdout",
     "output_type": "stream",
     "text": [
      "fit coeffs too far off [%] [-2.63674224 -1.80583392  0.48971686]\n"
     ]
    },
    {
     "name": "stderr",
     "output_type": "stream",
     "text": [
      "\r",
      " 47%|████▋     | 598/1261 [01:52<02:31,  4.38it/s]"
     ]
    },
    {
     "name": "stdout",
     "output_type": "stream",
     "text": [
      "fit coeffs too far off [%] [-1.88399237 -1.22902354  0.296031  ]\n"
     ]
    },
    {
     "name": "stderr",
     "output_type": "stream",
     "text": [
      " 48%|████▊     | 600/1261 [01:52<02:16,  4.83it/s]"
     ]
    },
    {
     "name": "stdout",
     "output_type": "stream",
     "text": [
      "fit coeffs too far off [%] [  3.50721925  88.94697396   0.19549317]\n"
     ]
    },
    {
     "name": "stderr",
     "output_type": "stream",
     "text": [
      "\r",
      " 48%|████▊     | 601/1261 [01:53<02:19,  4.74it/s]"
     ]
    },
    {
     "name": "stdout",
     "output_type": "stream",
     "text": [
      "fit coeffs too far off [%] [-1.51777752 -0.20647236  0.01766012]\n"
     ]
    },
    {
     "name": "stderr",
     "output_type": "stream",
     "text": [
      "\r",
      " 48%|████▊     | 602/1261 [01:53<02:18,  4.76it/s]"
     ]
    },
    {
     "name": "stdout",
     "output_type": "stream",
     "text": [
      "fit coeffs too far off [%] [-0.69287502  0.57435946 -0.04611106]\n",
      "fit coeffs too far off [%] [-2.01710894 -0.37040161  0.01804753]\n"
     ]
    },
    {
     "name": "stderr",
     "output_type": "stream",
     "text": [
      "\r",
      " 48%|████▊     | 603/1261 [01:53<02:32,  4.31it/s]"
     ]
    },
    {
     "name": "stdout",
     "output_type": "stream",
     "text": [
      "fit coeffs too far off [%] [-1.69641216 -0.27866467  0.01967411]\n"
     ]
    },
    {
     "name": "stderr",
     "output_type": "stream",
     "text": [
      "\r",
      " 48%|████▊     | 604/1261 [01:53<02:35,  4.23it/s]"
     ]
    },
    {
     "name": "stdout",
     "output_type": "stream",
     "text": [
      "fit coeffs too far off [%] [ 15.58958721  -0.9893801    0.03309449]\n"
     ]
    },
    {
     "name": "stderr",
     "output_type": "stream",
     "text": [
      "\r",
      " 48%|████▊     | 605/1261 [01:53<02:30,  4.36it/s]"
     ]
    },
    {
     "name": "stdout",
     "output_type": "stream",
     "text": [
      "fit coeffs too far off [%] [ 3.15158431  0.82018986  0.01906842]\n"
     ]
    },
    {
     "name": "stderr",
     "output_type": "stream",
     "text": [
      "\r",
      " 48%|████▊     | 606/1261 [01:54<02:30,  4.36it/s]"
     ]
    },
    {
     "name": "stdout",
     "output_type": "stream",
     "text": [
      "fit coeffs too far off [%] [ 0.44628497  0.79741752  0.09452766]\n",
      "fit coeffs too far off [%] [ 4.2252336   1.06014825  0.00992935]\n"
     ]
    },
    {
     "name": "stderr",
     "output_type": "stream",
     "text": [
      "\r",
      " 48%|████▊     | 607/1261 [01:54<02:41,  4.05it/s]"
     ]
    },
    {
     "name": "stdout",
     "output_type": "stream",
     "text": [
      "fit coeffs too far off [%] [ 4.98080202  1.26032159  0.00541505]\n"
     ]
    },
    {
     "name": "stderr",
     "output_type": "stream",
     "text": [
      "\r",
      " 48%|████▊     | 608/1261 [01:54<02:36,  4.16it/s]"
     ]
    },
    {
     "name": "stdout",
     "output_type": "stream",
     "text": [
      "fit coeffs too far off [%] [ 4.12960141  1.17550707  0.00793297]\n"
     ]
    },
    {
     "name": "stderr",
     "output_type": "stream",
     "text": [
      "\r",
      " 48%|████▊     | 609/1261 [01:54<02:33,  4.26it/s]"
     ]
    },
    {
     "name": "stdout",
     "output_type": "stream",
     "text": [
      "fit coeffs too far off [%] [  3.06587357e+00   9.06457970e-01  -1.96008178e-03]\n"
     ]
    },
    {
     "name": "stderr",
     "output_type": "stream",
     "text": [
      " 49%|████▉     | 617/1261 [01:56<01:37,  6.58it/s]"
     ]
    },
    {
     "name": "stdout",
     "output_type": "stream",
     "text": [
      "fit coeffs too far off [%] [-0.81837902 -0.26511146 -0.00632816]\n"
     ]
    },
    {
     "name": "stderr",
     "output_type": "stream",
     "text": [
      "\r",
      " 49%|████▉     | 618/1261 [01:56<01:50,  5.84it/s]"
     ]
    },
    {
     "name": "stdout",
     "output_type": "stream",
     "text": [
      "fit coeffs too far off [%] [-0.75000416 -0.26823942 -0.00468621]\n"
     ]
    },
    {
     "name": "stderr",
     "output_type": "stream",
     "text": [
      "\r",
      " 49%|████▉     | 619/1261 [01:56<01:56,  5.49it/s]"
     ]
    },
    {
     "name": "stdout",
     "output_type": "stream",
     "text": [
      "fit coeffs too far off [%] [-0.07676346  0.21105391  0.15464561]\n"
     ]
    },
    {
     "name": "stderr",
     "output_type": "stream",
     "text": [
      " 50%|████▉     | 625/1261 [01:57<01:37,  6.55it/s]"
     ]
    },
    {
     "name": "stdout",
     "output_type": "stream",
     "text": [
      "fit coeffs too far off [%] [ 0.21333603  0.32450922  0.17331187]\n"
     ]
    },
    {
     "name": "stderr",
     "output_type": "stream",
     "text": [
      "\r",
      " 50%|████▉     | 626/1261 [01:57<01:47,  5.92it/s]"
     ]
    },
    {
     "name": "stdout",
     "output_type": "stream",
     "text": [
      "fit coeffs too far off [%] [ 0.24563347  0.33186493  0.17913333]\n"
     ]
    },
    {
     "name": "stderr",
     "output_type": "stream",
     "text": [
      "\r",
      " 50%|████▉     | 627/1261 [01:58<02:02,  5.16it/s]"
     ]
    },
    {
     "name": "stdout",
     "output_type": "stream",
     "text": [
      "fit coeffs too far off [%] [ 0.19939902  0.29181229  0.16786674]\n"
     ]
    },
    {
     "name": "stderr",
     "output_type": "stream",
     "text": [
      "\r",
      " 50%|████▉     | 628/1261 [01:58<02:04,  5.08it/s]"
     ]
    },
    {
     "name": "stdout",
     "output_type": "stream",
     "text": [
      "fit coeffs too far off [%] [ 0.16705992  0.34800428  0.22025009]\n"
     ]
    },
    {
     "name": "stderr",
     "output_type": "stream",
     "text": [
      "\r",
      " 50%|████▉     | 629/1261 [01:58<02:09,  4.88it/s]"
     ]
    },
    {
     "name": "stdout",
     "output_type": "stream",
     "text": [
      "fit coeffs too far off [%] [-0.02188539  0.21620052  0.18548506]\n"
     ]
    },
    {
     "name": "stderr",
     "output_type": "stream",
     "text": [
      " 51%|█████     | 637/1261 [01:59<01:32,  6.75it/s]"
     ]
    },
    {
     "name": "stdout",
     "output_type": "stream",
     "text": [
      "fit coeffs too far off [%] [-0.02408939  0.25290497  0.17251003]\n"
     ]
    },
    {
     "name": "stderr",
     "output_type": "stream",
     "text": [
      "\r",
      " 51%|█████     | 638/1261 [01:59<01:44,  5.95it/s]"
     ]
    },
    {
     "name": "stdout",
     "output_type": "stream",
     "text": [
      "fit coeffs too far off [%] [ 0.02974559  0.28439676  0.18665352]\n"
     ]
    },
    {
     "name": "stderr",
     "output_type": "stream",
     "text": [
      " 64%|██████▍   | 804/1261 [02:25<01:04,  7.13it/s]"
     ]
    },
    {
     "name": "stdout",
     "output_type": "stream",
     "text": [
      "fit coeffs too far off [%] [-0.7595006  -0.36157002 -0.02458133]\n"
     ]
    },
    {
     "name": "stderr",
     "output_type": "stream",
     "text": [
      " 64%|██████▍   | 812/1261 [02:26<01:06,  6.76it/s]"
     ]
    },
    {
     "name": "stdout",
     "output_type": "stream",
     "text": [
      "fit coeffs too far off [%] [ 0.99307751  0.38273156  0.01669506]\n"
     ]
    },
    {
     "name": "stderr",
     "output_type": "stream",
     "text": [
      " 65%|██████▍   | 815/1261 [02:27<01:09,  6.43it/s]"
     ]
    },
    {
     "name": "stdout",
     "output_type": "stream",
     "text": [
      "fit coeffs too far off [%] [ 0.9549636   0.49601497  0.01828306]\n"
     ]
    },
    {
     "name": "stderr",
     "output_type": "stream",
     "text": [
      " 71%|███████   | 897/1261 [02:39<00:53,  6.86it/s]"
     ]
    },
    {
     "name": "stdout",
     "output_type": "stream",
     "text": [
      "fit coeffs too far off [%] [-0.89336479 -0.40479193 -0.01941617]\n"
     ]
    },
    {
     "name": "stderr",
     "output_type": "stream",
     "text": [
      "\r",
      " 71%|███████   | 898/1261 [02:40<00:59,  6.11it/s]"
     ]
    },
    {
     "name": "stdout",
     "output_type": "stream",
     "text": [
      "fit coeffs too far off [%] [-1.00951234 -0.46003112 -0.02228778]\n"
     ]
    },
    {
     "name": "stderr",
     "output_type": "stream",
     "text": [
      " 77%|███████▋  | 965/1261 [02:49<00:46,  6.31it/s]"
     ]
    },
    {
     "name": "stdout",
     "output_type": "stream",
     "text": [
      "fit coeffs too far off [%] [ 0.7484858   0.12449368  0.00314996]\n"
     ]
    },
    {
     "name": "stderr",
     "output_type": "stream",
     "text": [
      "\r",
      " 77%|███████▋  | 966/1261 [02:49<00:51,  5.77it/s]"
     ]
    },
    {
     "name": "stdout",
     "output_type": "stream",
     "text": [
      "fit coeffs too far off [%] [ 1.08337487  0.19325968  0.00289609]\n"
     ]
    },
    {
     "name": "stderr",
     "output_type": "stream",
     "text": [
      " 78%|███████▊  | 978/1261 [02:51<00:40,  7.02it/s]"
     ]
    },
    {
     "name": "stdout",
     "output_type": "stream",
     "text": [
      "fit coeffs too far off [%] [ 1.22199914  0.27081784  0.01576173]\n",
      "Trouble ahead! 3 lanes detected!\n"
     ]
    },
    {
     "name": "stderr",
     "output_type": "stream",
     "text": [
      "\r",
      " 78%|███████▊  | 979/1261 [02:51<00:49,  5.72it/s]"
     ]
    },
    {
     "name": "stdout",
     "output_type": "stream",
     "text": [
      "fit coeffs too far off [%] [ 1.19578856  0.23090691  0.00964727]\n",
      "fit coeffs too far off [%] [-1.27133788 -0.47626299 -0.03339557]\n",
      "Trouble ahead! 3 lanes detected!\n"
     ]
    },
    {
     "name": "stderr",
     "output_type": "stream",
     "text": [
      "\r",
      " 78%|███████▊  | 980/1261 [02:52<01:04,  4.39it/s]"
     ]
    },
    {
     "name": "stdout",
     "output_type": "stream",
     "text": [
      "Trouble ahead! 3 lanes detected!\n",
      "fit coeffs too far off [%] [ 0.90815398  0.16265373  0.00416051]\n",
      "fit coeffs too far off [%] [-0.78753257 -0.32924872 -0.02642362]\n",
      "Trouble ahead! 3 lanes detected!\n",
      "Trouble ahead! 3 lanes detected!\n",
      "fit coeffs too far off [%] [-5.70783538 -1.97164778 -0.10467806]\n"
     ]
    },
    {
     "name": "stderr",
     "output_type": "stream",
     "text": [
      " 78%|███████▊  | 982/1261 [02:52<01:13,  3.81it/s]"
     ]
    },
    {
     "name": "stdout",
     "output_type": "stream",
     "text": [
      "Trouble ahead! 3 lanes detected!\n",
      "fit coeffs too far off [%] [-4.69165485 -1.73756055 -0.09393305]\n"
     ]
    },
    {
     "name": "stderr",
     "output_type": "stream",
     "text": [
      "\r",
      " 78%|███████▊  | 983/1261 [02:53<01:15,  3.69it/s]"
     ]
    },
    {
     "name": "stdout",
     "output_type": "stream",
     "text": [
      "Trouble ahead! 3 lanes detected!\n",
      "fit coeffs too far off [%] [-4.26976713 -1.71519452 -0.09917422]\n"
     ]
    },
    {
     "name": "stderr",
     "output_type": "stream",
     "text": [
      "\r",
      " 78%|███████▊  | 984/1261 [02:53<01:13,  3.75it/s]"
     ]
    },
    {
     "name": "stdout",
     "output_type": "stream",
     "text": [
      "Trouble ahead! 3 lanes detected!\n",
      "fit coeffs too far off [%] [-3.65913787 -1.39881211 -0.07685259]\n"
     ]
    },
    {
     "name": "stderr",
     "output_type": "stream",
     "text": [
      "\r",
      " 78%|███████▊  | 985/1261 [02:53<01:12,  3.80it/s]"
     ]
    },
    {
     "name": "stdout",
     "output_type": "stream",
     "text": [
      "Trouble ahead! 3 lanes detected!\n"
     ]
    },
    {
     "name": "stderr",
     "output_type": "stream",
     "text": [
      " 78%|███████▊  | 988/1261 [02:54<00:49,  5.50it/s]"
     ]
    },
    {
     "name": "stdout",
     "output_type": "stream",
     "text": [
      "fit coeffs too far off [%] [ 1.01929344  0.52015706  0.01238626]\n"
     ]
    },
    {
     "name": "stderr",
     "output_type": "stream",
     "text": [
      "\r",
      " 78%|███████▊  | 989/1261 [02:54<00:52,  5.19it/s]"
     ]
    },
    {
     "name": "stdout",
     "output_type": "stream",
     "text": [
      "fit coeffs too far off [%] [ 0.98750074  0.35299115  0.00330807]\n"
     ]
    },
    {
     "name": "stderr",
     "output_type": "stream",
     "text": [
      " 79%|███████▉  | 999/1261 [02:55<00:37,  6.92it/s]"
     ]
    },
    {
     "name": "stdout",
     "output_type": "stream",
     "text": [
      "fit coeffs too far off [%] [-0.76963891 -0.39358966 -0.01826555]\n"
     ]
    },
    {
     "name": "stderr",
     "output_type": "stream",
     "text": [
      " 79%|███████▉  | 1001/1261 [02:56<00:43,  5.92it/s]"
     ]
    },
    {
     "name": "stdout",
     "output_type": "stream",
     "text": [
      "fit coeffs too far off [%] [-0.55654279 -0.53001499 -0.08943862]\n",
      "fit coeffs too far off [%] [-1.16303973 -0.38845266 -0.00318019]\n"
     ]
    },
    {
     "name": "stderr",
     "output_type": "stream",
     "text": [
      "\r",
      " 79%|███████▉  | 1002/1261 [02:56<00:53,  4.83it/s]"
     ]
    },
    {
     "name": "stdout",
     "output_type": "stream",
     "text": [
      "fit coeffs too far off [%] [-0.52842879 -0.61556035 -0.14206104]\n"
     ]
    },
    {
     "name": "stderr",
     "output_type": "stream",
     "text": [
      "\r",
      " 80%|███████▉  | 1003/1261 [02:56<00:54,  4.71it/s]"
     ]
    },
    {
     "name": "stdout",
     "output_type": "stream",
     "text": [
      "fit coeffs too far off [%] [-0.92475607 -1.09597219 -0.21926211]\n",
      "fit coeffs too far off [%] [-0.76827109 -0.18874841  0.02402003]\n"
     ]
    },
    {
     "name": "stderr",
     "output_type": "stream",
     "text": [
      "\r",
      " 80%|███████▉  | 1004/1261 [02:57<01:01,  4.20it/s]"
     ]
    },
    {
     "name": "stdout",
     "output_type": "stream",
     "text": [
      "fit coeffs too far off [%] [-0.88134387 -1.26142615 -0.27760373]\n"
     ]
    },
    {
     "name": "stderr",
     "output_type": "stream",
     "text": [
      "\r",
      " 80%|███████▉  | 1005/1261 [02:57<01:05,  3.91it/s]"
     ]
    },
    {
     "name": "stdout",
     "output_type": "stream",
     "text": [
      "fit coeffs too far off [%] [-0.61837074 -0.95904056 -0.23426558]\n"
     ]
    },
    {
     "name": "stderr",
     "output_type": "stream",
     "text": [
      "\r",
      " 80%|███████▉  | 1006/1261 [02:57<01:06,  3.82it/s]"
     ]
    },
    {
     "name": "stdout",
     "output_type": "stream",
     "text": [
      "fit coeffs too far off [%] [ 0.84675288  0.25482336  0.00643031]\n"
     ]
    },
    {
     "name": "stderr",
     "output_type": "stream",
     "text": [
      "\r",
      " 80%|███████▉  | 1007/1261 [02:57<01:07,  3.78it/s]"
     ]
    },
    {
     "name": "stdout",
     "output_type": "stream",
     "text": [
      "fit coeffs too far off [%] [-1.23543974 -1.04999484 -0.10009038]\n"
     ]
    },
    {
     "name": "stderr",
     "output_type": "stream",
     "text": [
      " 80%|████████  | 1009/1261 [02:58<01:05,  3.84it/s]"
     ]
    },
    {
     "name": "stdout",
     "output_type": "stream",
     "text": [
      "fit coeffs too far off [%] [ 0.95542911  0.30630112  0.00102788]\n"
     ]
    },
    {
     "name": "stderr",
     "output_type": "stream",
     "text": [
      "\r",
      " 80%|████████  | 1010/1261 [02:58<01:02,  4.04it/s]"
     ]
    },
    {
     "name": "stdout",
     "output_type": "stream",
     "text": [
      "fit coeffs too far off [%] [ 1.23971341  0.45737183  0.01194549]\n"
     ]
    },
    {
     "name": "stderr",
     "output_type": "stream",
     "text": [
      " 80%|████████  | 1012/1261 [02:59<00:53,  4.61it/s]"
     ]
    },
    {
     "name": "stdout",
     "output_type": "stream",
     "text": [
      "fit coeffs too far off [%] [-0.42189397 -0.64834841 -0.14505927]\n"
     ]
    },
    {
     "name": "stderr",
     "output_type": "stream",
     "text": [
      "\r",
      " 80%|████████  | 1013/1261 [02:59<00:55,  4.50it/s]"
     ]
    },
    {
     "name": "stdout",
     "output_type": "stream",
     "text": [
      "fit coeffs too far off [%] [-0.73430342 -0.88443188 -0.17498354]\n"
     ]
    },
    {
     "name": "stderr",
     "output_type": "stream",
     "text": [
      "\r",
      " 80%|████████  | 1014/1261 [02:59<00:56,  4.41it/s]"
     ]
    },
    {
     "name": "stdout",
     "output_type": "stream",
     "text": [
      "fit coeffs too far off [%] [-0.84504628 -0.99869645 -0.19459588]\n"
     ]
    },
    {
     "name": "stderr",
     "output_type": "stream",
     "text": [
      "\r",
      " 80%|████████  | 1015/1261 [02:59<01:02,  3.94it/s]"
     ]
    },
    {
     "name": "stdout",
     "output_type": "stream",
     "text": [
      "fit coeffs too far off [%] [-0.80083763 -1.01989604 -0.2071609 ]\n"
     ]
    },
    {
     "name": "stderr",
     "output_type": "stream",
     "text": [
      "\r",
      " 81%|████████  | 1016/1261 [03:00<01:01,  4.00it/s]"
     ]
    },
    {
     "name": "stdout",
     "output_type": "stream",
     "text": [
      "fit coeffs too far off [%] [-0.33721766 -0.66598841 -0.1672931 ]\n"
     ]
    },
    {
     "name": "stderr",
     "output_type": "stream",
     "text": [
      " 81%|████████  | 1018/1261 [03:00<00:53,  4.58it/s]"
     ]
    },
    {
     "name": "stdout",
     "output_type": "stream",
     "text": [
      "fit coeffs too far off [%] [-0.56135627 -0.60291649 -0.08056801]\n"
     ]
    },
    {
     "name": "stderr",
     "output_type": "stream",
     "text": [
      " 81%|████████▏ | 1026/1261 [03:01<00:37,  6.32it/s]"
     ]
    },
    {
     "name": "stdout",
     "output_type": "stream",
     "text": [
      "fit coeffs too far off [%] [ 1.080434    1.32039563  0.08879084]\n"
     ]
    },
    {
     "name": "stderr",
     "output_type": "stream",
     "text": [
      "\r",
      " 81%|████████▏ | 1027/1261 [03:02<00:41,  5.69it/s]"
     ]
    },
    {
     "name": "stdout",
     "output_type": "stream",
     "text": [
      "fit coeffs too far off [%] [ 1.30567656  1.84675501  0.16983029]\n"
     ]
    },
    {
     "name": "stderr",
     "output_type": "stream",
     "text": [
      "\r",
      " 82%|████████▏ | 1028/1261 [03:02<00:45,  5.09it/s]"
     ]
    },
    {
     "name": "stdout",
     "output_type": "stream",
     "text": [
      "fit coeffs too far off [%] [ 1.02389678  1.67817162  0.19370359]\n"
     ]
    },
    {
     "name": "stderr",
     "output_type": "stream",
     "text": [
      "\r",
      " 82%|████████▏ | 1029/1261 [03:02<00:48,  4.76it/s]"
     ]
    },
    {
     "name": "stdout",
     "output_type": "stream",
     "text": [
      "fit coeffs too far off [%] [ 1.46077095  2.47334999  0.28460196]\n",
      "fit coeffs too far off [%] [ 1.00291779  0.18932418 -0.01749577]\n"
     ]
    },
    {
     "name": "stderr",
     "output_type": "stream",
     "text": [
      "\r",
      " 82%|████████▏ | 1030/1261 [03:02<00:59,  3.86it/s]"
     ]
    },
    {
     "name": "stdout",
     "output_type": "stream",
     "text": [
      "fit coeffs too far off [%] [ 0.90309723  1.92753707  0.22902676]\n",
      "fit coeffs too far off [%] [ 0.83311755  0.15771625 -0.01385865]\n"
     ]
    },
    {
     "name": "stderr",
     "output_type": "stream",
     "text": [
      "\r",
      " 82%|████████▏ | 1031/1261 [03:03<01:05,  3.54it/s]"
     ]
    },
    {
     "name": "stdout",
     "output_type": "stream",
     "text": [
      "fit coeffs too far off [%] [ 0.73966688  2.10492051  0.282476  ]\n",
      "fit coeffs too far off [%] [ 0.79956398  0.16532098 -0.01590691]\n"
     ]
    },
    {
     "name": "stderr",
     "output_type": "stream",
     "text": [
      "\r",
      " 82%|████████▏ | 1032/1261 [03:03<01:09,  3.29it/s]"
     ]
    },
    {
     "name": "stdout",
     "output_type": "stream",
     "text": [
      "fit coeffs too far off [%] [ 0.25638928  1.61108072  0.26309789]\n"
     ]
    },
    {
     "name": "stderr",
     "output_type": "stream",
     "text": [
      " 83%|████████▎ | 1049/1261 [03:06<00:30,  6.96it/s]"
     ]
    },
    {
     "name": "stdout",
     "output_type": "stream",
     "text": [
      "fit coeffs too far off [%] [-0.96771643 -0.19772036  0.00921456]\n"
     ]
    },
    {
     "name": "stderr",
     "output_type": "stream",
     "text": [
      " 84%|████████▍ | 1057/1261 [03:07<00:30,  6.62it/s]"
     ]
    },
    {
     "name": "stdout",
     "output_type": "stream",
     "text": [
      "fit coeffs too far off [%] [-0.05962107  0.2384194   0.15691223]\n"
     ]
    },
    {
     "name": "stderr",
     "output_type": "stream",
     "text": [
      "\r",
      " 84%|████████▍ | 1058/1261 [03:07<00:36,  5.59it/s]"
     ]
    },
    {
     "name": "stdout",
     "output_type": "stream",
     "text": [
      "fit coeffs too far off [%] [ 0.12470786  0.26546063  0.15051634]\n"
     ]
    },
    {
     "name": "stderr",
     "output_type": "stream",
     "text": [
      "\r",
      " 84%|████████▍ | 1059/1261 [03:07<00:38,  5.26it/s]"
     ]
    },
    {
     "name": "stdout",
     "output_type": "stream",
     "text": [
      "fit coeffs too far off [%] [ 0.34230633  0.35968047  0.17840925]\n",
      "fit coeffs too far off [%] [ 0.99476701  0.17427475 -0.01379945]\n"
     ]
    },
    {
     "name": "stderr",
     "output_type": "stream",
     "text": [
      "\r",
      " 84%|████████▍ | 1060/1261 [03:08<00:44,  4.51it/s]"
     ]
    },
    {
     "name": "stdout",
     "output_type": "stream",
     "text": [
      "fit coeffs too far off [%] [ 0.43675648  0.36866877  0.1853024 ]\n",
      "fit coeffs too far off [%] [ 2.02519687  0.40915748 -0.00928993]\n"
     ]
    },
    {
     "name": "stderr",
     "output_type": "stream",
     "text": [
      "\r",
      " 84%|████████▍ | 1061/1261 [03:08<00:50,  4.00it/s]"
     ]
    },
    {
     "name": "stdout",
     "output_type": "stream",
     "text": [
      "fit coeffs too far off [%] [ 0.39698557  0.31480695  0.17447778]\n",
      "fit coeffs too far off [%] [ 0.99907562  0.16322393 -0.02299036]\n"
     ]
    },
    {
     "name": "stderr",
     "output_type": "stream",
     "text": [
      "\r",
      " 84%|████████▍ | 1062/1261 [03:08<00:51,  3.84it/s]"
     ]
    },
    {
     "name": "stdout",
     "output_type": "stream",
     "text": [
      "fit coeffs too far off [%] [ 0.97924334  0.1990774  -0.01701556]\n"
     ]
    },
    {
     "name": "stderr",
     "output_type": "stream",
     "text": [
      " 88%|████████▊ | 1105/1261 [03:15<00:21,  7.11it/s]"
     ]
    },
    {
     "name": "stdout",
     "output_type": "stream",
     "text": [
      "fit coeffs too far off [%] [ 0.96061949  0.10592402 -0.01329658]\n"
     ]
    },
    {
     "name": "stderr",
     "output_type": "stream",
     "text": [
      "\r",
      " 88%|████████▊ | 1106/1261 [03:15<00:24,  6.23it/s]"
     ]
    },
    {
     "name": "stdout",
     "output_type": "stream",
     "text": [
      "fit coeffs too far off [%] [ 1.6813371   0.47802863  0.03033272]\n",
      "fit coeffs too far off [%] [  1.13600916e+00   1.34231851e-01  -1.77849008e-04]\n"
     ]
    },
    {
     "name": "stderr",
     "output_type": "stream",
     "text": [
      "\r",
      " 88%|████████▊ | 1107/1261 [03:16<00:30,  5.05it/s]"
     ]
    },
    {
     "name": "stdout",
     "output_type": "stream",
     "text": [
      "fit coeffs too far off [%] [ 1.53468015  0.30424174 -0.0043793 ]\n",
      "fit coeffs too far off [%] [ 1.35648196  0.19922775  0.0101837 ]\n"
     ]
    },
    {
     "name": "stderr",
     "output_type": "stream",
     "text": [
      "\r",
      " 88%|████████▊ | 1108/1261 [03:16<00:34,  4.44it/s]"
     ]
    },
    {
     "name": "stdout",
     "output_type": "stream",
     "text": [
      "fit coeffs too far off [%] [ 1.64639772  0.5147489   0.02836865]\n",
      "fit coeffs too far off [%] [ 2.28952987  0.3241791   0.00475004]\n"
     ]
    },
    {
     "name": "stderr",
     "output_type": "stream",
     "text": [
      "\r",
      " 88%|████████▊ | 1109/1261 [03:16<00:37,  4.09it/s]"
     ]
    },
    {
     "name": "stdout",
     "output_type": "stream",
     "text": [
      "fit coeffs too far off [%] [ 1.4650027   0.46394789  0.01863981]\n",
      "fit coeffs too far off [%] [ 1.75487805  0.26721734  0.00502531]\n"
     ]
    },
    {
     "name": "stderr",
     "output_type": "stream",
     "text": [
      "\r",
      " 88%|████████▊ | 1110/1261 [03:16<00:40,  3.77it/s]"
     ]
    },
    {
     "name": "stdout",
     "output_type": "stream",
     "text": [
      "fit coeffs too far off [%] [ 1.40526717  0.51224927  0.02328134]\n",
      "fit coeffs too far off [%] [ 2.46685893  0.36832683  0.00499098]\n"
     ]
    },
    {
     "name": "stderr",
     "output_type": "stream",
     "text": [
      "\r",
      " 88%|████████▊ | 1111/1261 [03:17<00:40,  3.72it/s]"
     ]
    },
    {
     "name": "stdout",
     "output_type": "stream",
     "text": [
      "fit coeffs too far off [%] [ 0.75561191  0.44539283  0.0427449 ]\n",
      "fit coeffs too far off [%] [ 2.42309098  0.36917425 -0.00520404]\n"
     ]
    },
    {
     "name": "stderr",
     "output_type": "stream",
     "text": [
      "\r",
      " 88%|████████▊ | 1112/1261 [03:17<00:41,  3.58it/s]"
     ]
    },
    {
     "name": "stdout",
     "output_type": "stream",
     "text": [
      "fit coeffs too far off [%] [ 2.75751893  0.53631885  0.00613473]\n"
     ]
    },
    {
     "name": "stderr",
     "output_type": "stream",
     "text": [
      " 90%|████████▉ | 1129/1261 [03:20<00:19,  6.68it/s]"
     ]
    },
    {
     "name": "stdout",
     "output_type": "stream",
     "text": [
      "fit coeffs too far off [%] [ 0.64501924  0.6577826   0.05770021]\n"
     ]
    },
    {
     "name": "stderr",
     "output_type": "stream",
     "text": [
      "\r",
      " 90%|████████▉ | 1130/1261 [03:20<00:21,  5.99it/s]"
     ]
    },
    {
     "name": "stdout",
     "output_type": "stream",
     "text": [
      "fit coeffs too far off [%] [ 0.53703334  0.66726073  0.07263786]\n"
     ]
    },
    {
     "name": "stderr",
     "output_type": "stream",
     "text": [
      "\r",
      " 90%|████████▉ | 1131/1261 [03:20<00:23,  5.49it/s]"
     ]
    },
    {
     "name": "stdout",
     "output_type": "stream",
     "text": [
      "fit coeffs too far off [%] [ 0.47703604  0.64576512  0.0741585 ]\n"
     ]
    },
    {
     "name": "stderr",
     "output_type": "stream",
     "text": [
      "\r",
      " 90%|████████▉ | 1132/1261 [03:21<00:25,  5.09it/s]"
     ]
    },
    {
     "name": "stdout",
     "output_type": "stream",
     "text": [
      "fit coeffs too far off [%] [ 0.30177642  0.68449402  0.10939913]\n"
     ]
    },
    {
     "name": "stderr",
     "output_type": "stream",
     "text": [
      " 92%|█████████▏| 1161/1261 [03:25<00:17,  5.83it/s]"
     ]
    },
    {
     "name": "stdout",
     "output_type": "stream",
     "text": [
      "fit coeffs too far off [%] [ 0.85934608  0.78785625  0.08137111]\n"
     ]
    },
    {
     "name": "stderr",
     "output_type": "stream",
     "text": [
      "\r",
      " 92%|█████████▏| 1162/1261 [03:25<00:18,  5.26it/s]"
     ]
    },
    {
     "name": "stdout",
     "output_type": "stream",
     "text": [
      "fit coeffs too far off [%] [ 0.80743729  0.66606051  0.06051744]\n"
     ]
    },
    {
     "name": "stderr",
     "output_type": "stream",
     "text": [
      "\r",
      " 92%|█████████▏| 1163/1261 [03:26<00:20,  4.77it/s]"
     ]
    },
    {
     "name": "stdout",
     "output_type": "stream",
     "text": [
      "fit coeffs too far off [%] [ 1.25218068  1.09316284  0.1095894 ]\n"
     ]
    },
    {
     "name": "stderr",
     "output_type": "stream",
     "text": [
      "\r",
      " 92%|█████████▏| 1164/1261 [03:26<00:21,  4.55it/s]"
     ]
    },
    {
     "name": "stdout",
     "output_type": "stream",
     "text": [
      "fit coeffs too far off [%] [ 0.99127337  1.02359079  0.11905072]\n"
     ]
    },
    {
     "name": "stderr",
     "output_type": "stream",
     "text": [
      "\r",
      " 92%|█████████▏| 1165/1261 [03:26<00:20,  4.57it/s]"
     ]
    },
    {
     "name": "stdout",
     "output_type": "stream",
     "text": [
      "fit coeffs too far off [%] [ 0.79256919  0.74685491  0.07607354]\n"
     ]
    },
    {
     "name": "stderr",
     "output_type": "stream",
     "text": [
      "\r",
      " 92%|█████████▏| 1166/1261 [03:26<00:21,  4.50it/s]"
     ]
    },
    {
     "name": "stdout",
     "output_type": "stream",
     "text": [
      "fit coeffs too far off [%] [ 1.28944304  1.00265482  0.08871905]\n"
     ]
    },
    {
     "name": "stderr",
     "output_type": "stream",
     "text": [
      "\r",
      " 93%|█████████▎| 1167/1261 [03:27<00:22,  4.26it/s]"
     ]
    },
    {
     "name": "stdout",
     "output_type": "stream",
     "text": [
      "fit coeffs too far off [%] [ 0.58850789  0.57538466  0.06678441]\n"
     ]
    },
    {
     "name": "stderr",
     "output_type": "stream",
     "text": [
      " 94%|█████████▍| 1185/1261 [03:29<00:11,  6.84it/s]"
     ]
    },
    {
     "name": "stdout",
     "output_type": "stream",
     "text": [
      "fit coeffs too far off [%] [ 0.84146402  0.2602106   0.0372494 ]\n"
     ]
    },
    {
     "name": "stderr",
     "output_type": "stream",
     "text": [
      "\r",
      " 94%|█████████▍| 1186/1261 [03:30<00:12,  6.11it/s]"
     ]
    },
    {
     "name": "stdout",
     "output_type": "stream",
     "text": [
      "fit coeffs too far off [%] [ 0.92097908  0.22005818  0.02102303]\n"
     ]
    },
    {
     "name": "stderr",
     "output_type": "stream",
     "text": [
      "\r",
      " 94%|█████████▍| 1187/1261 [03:30<00:13,  5.46it/s]"
     ]
    },
    {
     "name": "stdout",
     "output_type": "stream",
     "text": [
      "fit coeffs too far off [%] [ 0.89365912  0.21143389  0.02162045]\n"
     ]
    },
    {
     "name": "stderr",
     "output_type": "stream",
     "text": [
      "\r",
      " 94%|█████████▍| 1188/1261 [03:30<00:13,  5.23it/s]"
     ]
    },
    {
     "name": "stdout",
     "output_type": "stream",
     "text": [
      "fit coeffs too far off [%] [ 1.08552446  0.29764913  0.03009438]\n"
     ]
    },
    {
     "name": "stderr",
     "output_type": "stream",
     "text": [
      "\r",
      " 94%|█████████▍| 1189/1261 [03:30<00:14,  5.06it/s]"
     ]
    },
    {
     "name": "stdout",
     "output_type": "stream",
     "text": [
      "fit coeffs too far off [%] [ 1.07329728  0.22881747  0.00750086]\n"
     ]
    },
    {
     "name": "stderr",
     "output_type": "stream",
     "text": [
      "\r",
      " 94%|█████████▍| 1190/1261 [03:30<00:14,  4.97it/s]"
     ]
    },
    {
     "name": "stdout",
     "output_type": "stream",
     "text": [
      "fit coeffs too far off [%] [ 1.11024971  0.33156505  0.02814194]\n"
     ]
    },
    {
     "name": "stderr",
     "output_type": "stream",
     "text": [
      "\r",
      " 94%|█████████▍| 1191/1261 [03:31<00:14,  4.71it/s]"
     ]
    },
    {
     "name": "stdout",
     "output_type": "stream",
     "text": [
      "fit coeffs too far off [%] [ 1.17644554  0.35212974  0.02538686]\n"
     ]
    },
    {
     "name": "stderr",
     "output_type": "stream",
     "text": [
      " 98%|█████████▊| 1231/1261 [03:37<00:04,  7.05it/s]"
     ]
    },
    {
     "name": "stdout",
     "output_type": "stream",
     "text": [
      "fit coeffs too far off [%] [-0.70531077 -0.21864555 -0.01206848]\n"
     ]
    },
    {
     "name": "stderr",
     "output_type": "stream",
     "text": [
      " 98%|█████████▊| 1240/1261 [03:38<00:03,  5.39it/s]"
     ]
    },
    {
     "name": "stdout",
     "output_type": "stream",
     "text": [
      "fit coeffs too far off [%] [-0.73428045 -0.36171559 -0.03230881]\n"
     ]
    },
    {
     "name": "stderr",
     "output_type": "stream",
     "text": [
      " 98%|█████████▊| 1242/1261 [03:39<00:03,  5.22it/s]"
     ]
    },
    {
     "name": "stdout",
     "output_type": "stream",
     "text": [
      "fit coeffs too far off [%] [-0.7217692  -0.36118134 -0.02682217]\n"
     ]
    },
    {
     "name": "stderr",
     "output_type": "stream",
     "text": [
      " 99%|█████████▉| 1248/1261 [03:40<00:02,  5.86it/s]"
     ]
    },
    {
     "name": "stdout",
     "output_type": "stream",
     "text": [
      "fit coeffs too far off [%] [-1.23288628 -0.50547544 -0.03377323]\n"
     ]
    },
    {
     "name": "stderr",
     "output_type": "stream",
     "text": [
      "\r",
      " 99%|█████████▉| 1249/1261 [03:40<00:02,  5.51it/s]"
     ]
    },
    {
     "name": "stdout",
     "output_type": "stream",
     "text": [
      "fit coeffs too far off [%] [-1.13846876 -0.54556693 -0.04015692]\n"
     ]
    },
    {
     "name": "stderr",
     "output_type": "stream",
     "text": [
      " 99%|█████████▉| 1251/1261 [03:40<00:01,  5.58it/s]"
     ]
    },
    {
     "name": "stdout",
     "output_type": "stream",
     "text": [
      "fit coeffs too far off [%] [-0.94928572 -0.42503561 -0.02798487]\n"
     ]
    },
    {
     "name": "stderr",
     "output_type": "stream",
     "text": [
      " 99%|█████████▉| 1253/1261 [03:41<00:01,  5.56it/s]"
     ]
    },
    {
     "name": "stdout",
     "output_type": "stream",
     "text": [
      "fit coeffs too far off [%] [ 2.71195982  0.15253881 -0.01825053]\n"
     ]
    },
    {
     "name": "stderr",
     "output_type": "stream",
     "text": [
      "\r",
      " 99%|█████████▉| 1254/1261 [03:41<00:01,  5.07it/s]"
     ]
    },
    {
     "name": "stdout",
     "output_type": "stream",
     "text": [
      "fit coeffs too far off [%] [-0.03542998 -0.59521377 -0.05805913]\n",
      "fit coeffs too far off [%] [ 1.6699741   0.03746739 -0.0138584 ]\n"
     ]
    },
    {
     "name": "stderr",
     "output_type": "stream",
     "text": [
      "\r",
      "100%|█████████▉| 1255/1261 [03:41<00:01,  4.41it/s]"
     ]
    },
    {
     "name": "stdout",
     "output_type": "stream",
     "text": [
      "fit coeffs too far off [%] [-0.26852222 -0.65660197 -0.05244702]\n",
      "fit coeffs too far off [%] [-0.96020139 -0.43941113 -0.02999554]\n"
     ]
    },
    {
     "name": "stderr",
     "output_type": "stream",
     "text": [
      "\r",
      "100%|█████████▉| 1256/1261 [03:42<00:01,  3.94it/s]"
     ]
    },
    {
     "name": "stdout",
     "output_type": "stream",
     "text": [
      "fit coeffs too far off [%] [-0.10686656 -0.74402195 -0.0654702 ]\n"
     ]
    },
    {
     "name": "stderr",
     "output_type": "stream",
     "text": [
      "\r",
      "100%|█████████▉| 1257/1261 [03:42<00:00,  4.21it/s]"
     ]
    },
    {
     "name": "stdout",
     "output_type": "stream",
     "text": [
      "fit coeffs too far off [%] [-0.32431993 -0.95506456 -0.07430619]\n"
     ]
    },
    {
     "name": "stderr",
     "output_type": "stream",
     "text": [
      "\r",
      "100%|█████████▉| 1258/1261 [03:42<00:00,  4.26it/s]"
     ]
    },
    {
     "name": "stdout",
     "output_type": "stream",
     "text": [
      "fit coeffs too far off [%] [-0.70693132 -1.18370953 -0.06911969]\n",
      "fit coeffs too far off [%] [ 1.62655319  0.27072931 -0.0117437 ]\n"
     ]
    },
    {
     "name": "stderr",
     "output_type": "stream",
     "text": [
      "\r",
      "100%|█████████▉| 1259/1261 [03:42<00:00,  3.96it/s]"
     ]
    },
    {
     "name": "stdout",
     "output_type": "stream",
     "text": [
      "fit coeffs too far off [%] [-0.894791   -1.69949224 -0.09422263]\n",
      "fit coeffs too far off [%] [ 1.82036289  0.4065712  -0.0040323 ]\n"
     ]
    },
    {
     "name": "stderr",
     "output_type": "stream",
     "text": [
      "\r",
      "100%|█████████▉| 1260/1261 [03:43<00:00,  3.75it/s]"
     ]
    },
    {
     "name": "stdout",
     "output_type": "stream",
     "text": [
      "fit coeffs too far off [%] [-1.44271018 -2.43495715 -0.11114076]\n",
      "fit coeffs too far off [%] [-1.75864089 -0.60818671 -0.02238092]\n"
     ]
    },
    {
     "name": "stderr",
     "output_type": "stream",
     "text": [
      "\n"
     ]
    },
    {
     "name": "stdout",
     "output_type": "stream",
     "text": [
      "[MoviePy] Done.\n",
      "[MoviePy] >>>> Video ready: output_images/stage3_project_video.mp4 \n",
      "\n",
      "CPU times: user 12min 33s, sys: 8.28 s, total: 12min 41s\n",
      "Wall time: 3min 43s\n"
     ]
    }
   ],
   "source": [
    "left = Line(7)\n",
    "right = Line(7)\n",
    "\n",
    "out_dir='./'\n",
    "output = out_dir+'processed_project_video.mp4'\n",
    "clip = VideoFileClip(\"project_video.mp4\")\n",
    "out_clip = clip.fl_image(process_image) \n",
    "%time out_clip.write_videofile(output, audio=False)"
   ]
  },
  {
   "cell_type": "code",
   "execution_count": null,
   "metadata": {
    "collapsed": true
   },
   "outputs": [],
   "source": []
  }
 ],
 "metadata": {
  "anaconda-cloud": {},
  "kernelspec": {
   "display_name": "Python 3",
   "language": "python",
   "name": "python3"
  },
  "language_info": {
   "codemirror_mode": {
    "name": "ipython",
    "version": 3
   },
   "file_extension": ".py",
   "mimetype": "text/x-python",
   "name": "python",
   "nbconvert_exporter": "python",
   "pygments_lexer": "ipython3",
   "version": "3.6.4"
  }
 },
 "nbformat": 4,
 "nbformat_minor": 1
}
